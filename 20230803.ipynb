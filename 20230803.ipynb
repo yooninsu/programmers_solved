{
 "cells": [
  {
   "cell_type": "markdown",
   "metadata": {},
   "source": [
    "### 숫자 짝꿍"
   ]
  },
  {
   "cell_type": "markdown",
   "metadata": {},
   "source": [
    "두 정수 X, Y의 임의의 자리에서 공통으로 나타나는 정수 k(0 ≤ k ≤ 9)들을 이용하여 만들 수 있는 가장 큰 정수를 두 수의 짝꿍이라 합니다(단, 공통으로 나타나는 정수 중 서로 짝지을 수 있는 숫자만 사용합니다). X, Y의 짝꿍이 존재하지 않으면, 짝꿍은 -1입니다. X, Y의 짝꿍이 0으로만 구성되어 있다면, 짝꿍은 0입니다.\n",
    "\n",
    "예를 들어, X = 3403이고 Y = 13203이라면, X와 Y의 짝꿍은 X와 Y에서 공통으로 나타나는 3, 0, 3으로 만들 수 있는 가장 큰 정수인 330입니다. 다른 예시로 X = 5525이고 Y = 1255이면 X와 Y의 짝꿍은 X와 Y에서 공통으로 나타나는 2, 5, 5로 만들 수 있는 가장 큰 정수인 552입니다(X에는 5가 3개, Y에는 5가 2개 나타나므로 남는 5 한 개는 짝 지을 수 없습니다.)\n",
    "\n",
    "두 정수 X, Y가 주어졌을 때, X, Y의 짝꿍을 return하는 solution 함수를 완성해주세요.\n",
    "\n",
    "제한사항\n",
    "\n",
    "- 3 ≤ X, Y의 길이(자릿수) ≤ 3,000,000입니다.\n",
    "- X, Y는 0으로 시작하지 않습니다.\n",
    "- X, Y의 짝꿍은 상당히 큰 정수일 수 있으므로, 문자열로 반환합니다.\n",
    "\n",
    "\n",
    "\n",
    "X\t|Y\t|result|\n",
    "|---|---|---|\n",
    "\"100\"\t|\"2345\"|\t\"-1\"\n",
    "\"100\"\t|\"203045\"|\t\"0\"\n",
    "\"100\"\t|\"123450\"|\t\"10\"\n",
    "\"12321\"|\t\"42531\"\t|\"321\"\n",
    "\"5525\"|\t\"1255\"|\t\"552\""
   ]
  },
  {
   "cell_type": "code",
   "execution_count": 19,
   "metadata": {},
   "outputs": [
    {
     "data": {
      "text/plain": [
       "'0'"
      ]
     },
     "execution_count": 19,
     "metadata": {},
     "output_type": "execute_result"
    }
   ],
   "source": [
    "X= 100  \n",
    "Y = 203045\n",
    "def solution(X,Y):\n",
    "    X,Y= str(X), str(Y)\n",
    "    listx, listy = list(X), list(Y)\n",
    "    temp = []\n",
    "    for i in listx:\n",
    "        if i in listy:\n",
    "            temp.append(i)\n",
    "            listy.remove(i)\n",
    "    temp.sort(reverse=True)\n",
    "    answer = \"\".join(temp)\n",
    "    if not temp:\n",
    "        answer = \"-1\"\n",
    "    if list(set(temp)) == [\"0\"]:\n",
    "        answer = \"0\"\n",
    "    return answer\n",
    "solution(X,Y)"
   ]
  },
  {
   "cell_type": "code",
   "execution_count": 122,
   "metadata": {},
   "outputs": [
    {
     "data": {
      "text/plain": [
       "'2000'"
      ]
     },
     "execution_count": 122,
     "metadata": {},
     "output_type": "execute_result"
    }
   ],
   "source": [
    "X =1000000002\n",
    "Y = 20200\n",
    "def solution(X,Y):\n",
    "    list_X = list(str(X).count(str(x)) for x in range(10))\n",
    "    list_Y =  list(str(Y).count(str(x)) for x in range(10))\n",
    "    tmp = []\n",
    "    for i in range(len(list_X)):\n",
    "        tmp.append(min(list_X[i],list_Y[i]))\n",
    "    if sum(tmp) == 0:\n",
    "        return \"-1\"\n",
    "    num = [ i for i in range(0,10)]\n",
    "    multi_list = []\n",
    "    for i in range(len(tmp)):\n",
    "        if tmp[i] != 0:\n",
    "            multi_list.append(str(num[i])*tmp[i])\n",
    "    if sum(map(int,multi_list)) == 0:\n",
    "        return \"0\"\n",
    "    multi_list.sort(reverse=True)\n",
    "    str_list = [str(num) for num in multi_list]\n",
    "    answer = \"\".join(str_list)\n",
    "    return answer\n",
    "solution(X,Y)"
   ]
  },
  {
   "cell_type": "code",
   "execution_count": 31,
   "metadata": {},
   "outputs": [
    {
     "name": "stdout",
     "output_type": "stream",
     "text": [
      "['5', '2']\n",
      "{'5': 3, '2': 1}\n",
      "{'1': 1, '2': 1, '5': 2}\n"
     ]
    },
    {
     "data": {
      "text/plain": [
       "'552'"
      ]
     },
     "execution_count": 31,
     "metadata": {},
     "output_type": "execute_result"
    }
   ],
   "source": [
    "def solution(X, Y):\n",
    "    X, Y = str(X), str(Y)\n",
    "    common_digits = set(X) & set(Y)  # Find the common digits using set intersection\n",
    "\n",
    "    # Handle special cases\n",
    "    if len(common_digits) == 0:\n",
    "        return \"-1\"\n",
    "    elif \"0\" in common_digits and len(common_digits) == 1:\n",
    "        return \"0\"\n",
    "\n",
    "    # Count the occurrences of each common digit in both X and Y\n",
    "    count_X = dict()\n",
    "    for i in X:\n",
    "        if i not in count_X:\n",
    "            count_X[i] = 0\n",
    "        count_X[i] += 1\n",
    "    count_Y = dict()\n",
    "    for j in Y:\n",
    "        if j not in count_Y:\n",
    "            count_Y[j] = 0\n",
    "        count_Y[j] += 1\n",
    "    # Sort the common digits in ascending order\n",
    "    common_digits_sorted = sorted(common_digits, reverse=True)\n",
    "    # Construct the answer string with repetitive digits in descending order\n",
    "    answer = \"\"\n",
    "    for digit in common_digits_sorted:\n",
    "        count = min(count_X[digit], count_Y[digit])  # Consider the minimum count\n",
    "        answer += digit * count\n",
    "\n",
    "    return answer\n",
    "solution(5525,1255)"
   ]
  }
 ],
 "metadata": {
  "kernelspec": {
   "display_name": "Python 3",
   "language": "python",
   "name": "python3"
  },
  "language_info": {
   "codemirror_mode": {
    "name": "ipython",
    "version": 3
   },
   "file_extension": ".py",
   "mimetype": "text/x-python",
   "name": "python",
   "nbconvert_exporter": "python",
   "pygments_lexer": "ipython3",
   "version": "3.11.4"
  },
  "orig_nbformat": 4
 },
 "nbformat": 4,
 "nbformat_minor": 2
}
