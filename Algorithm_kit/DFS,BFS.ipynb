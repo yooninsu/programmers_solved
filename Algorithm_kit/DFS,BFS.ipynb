{
 "cells": [
  {
   "cell_type": "markdown",
   "metadata": {},
   "source": [
    "## 탐색 알고리즘 DFS/BF\n",
    "\n",
    "DFS는 Depth-First Search, 깊이우선 탐색. 그래프에서 깊은 부분을 우선적으로 탐색하는 알고리즘.\n",
    "\n",
    "- 탐색 시작 노드를 스택에 삽입하고 방문 처리를 한다.\n",
    "- 스택의 최상단 노드에 방문하지 않은 인접 노드가 있다면 그 인접 노드를 스택에 넣고 방문 처리를 한다. 방문하지 않은 인접 노드가 없으면 스택에서 최상단 노드를 꺼낸다.\n",
    "- 위의 과정을 더 이상 수행할 수 없을 때까지 반복한다."
   ]
  },
  {
   "cell_type": "markdown",
   "metadata": {},
   "source": [
    "#### 타겟 넘버\n",
    "\n",
    "n개의 음이 아닌 정수들이 있습니다. 이 정수들을 순서를 바꾸지 않고 적절히 더하거나 빼서 타겟 넘버를 만들려고 합니다. 예를 들어 [1, 1, 1, 1, 1]로 숫자 3을 만들려면 다음 다섯 방법을 쓸 수 있습니다. \\\n",
    "-1+1+1+1+1 = 3   \n",
    "+1-1+1+1+1 = 3   \n",
    "+1+1-1+1+1 = 3   \n",
    "+1+1+1-1+1 = 3  \n",
    "+1+1+1+1-1 = 3 \\\n",
    "사용할 수 있는 숫자가 담긴 배열 numbers, 타겟 넘버 target이 매개변수로 주어질 때 숫자를 적절히 더하고 빼서 타겟 넘버를 만드는 방법의 수를 return 하도록 solution 함수를 작성해주세요.\n",
    "\n",
    "제한사항\n",
    "- 주어지는 숫자의 개수는 2개 이상 20개 이하입니다.\n",
    "- 각 숫자는 1 이상 50 이하인 자연수입니다.\n",
    "- 타겟 넘버는 1 이상 1000 이하인 자연수입니다.\n"
   ]
  },
  {
   "cell_type": "code",
   "execution_count": 1,
   "metadata": {},
   "outputs": [],
   "source": [
    "def solution(numbers, target):\n",
    "    answer = DFS(numbers, target, 0)\n",
    "    return answer\n",
    "\n",
    "\n",
    "def DFS(numbers, target, depth):\n",
    "    answer = 0\n",
    "    if depth == len(numbers):\n",
    "        print(numbers)\n",
    "        if sum(numbers) == target:\n",
    "            return 1\n",
    "        else:\n",
    "            return 0\n",
    "    else:\n",
    "        answer += DFS(numbers, target, depth + 1)\n",
    "        numbers[depth] *= -1\n",
    "        answer += DFS(numbers, target, depth + 1)\n",
    "        return answer\n",
    "numbers = [1, 1, 1, 1, 1]\n",
    "target = 3\n",
    "solution(numbers, target)"
   ]
  },
  {
   "cell_type": "code",
   "execution_count": null,
   "metadata": {},
   "outputs": [],
   "source": [
    "def DFS(numbers, target, depth):\n",
    "    answer = 0\n",
    "    if depth == len(numbers):\n",
    "        if sum(numbers) == target:\n",
    "            return 1\n",
    "        else:\n",
    "            return 0\n",
    "    else:\n",
    "        answer += DFS(numbers, target, depth +1)\n",
    "        numbers[depth]"
   ]
  },
  {
   "cell_type": "code",
   "execution_count": 2,
   "metadata": {},
   "outputs": [
    {
     "name": "stdout",
     "output_type": "stream",
     "text": [
      "[1, 1, 1, 1, 1]\n",
      "[1, 1, 1, 1, -1]\n",
      "[1, 1, 1, -1, -1]\n",
      "[1, 1, 1, -1, 1]\n",
      "[1, 1, -1, -1, 1]\n",
      "[1, 1, -1, -1, -1]\n",
      "[1, 1, -1, 1, -1]\n",
      "[1, 1, -1, 1, 1]\n",
      "[1, -1, -1, 1, 1]\n",
      "[1, -1, -1, 1, -1]\n",
      "[1, -1, -1, -1, -1]\n",
      "[1, -1, -1, -1, 1]\n",
      "[1, -1, 1, -1, 1]\n",
      "[1, -1, 1, -1, -1]\n",
      "[1, -1, 1, 1, -1]\n",
      "[1, -1, 1, 1, 1]\n",
      "[-1, -1, 1, 1, 1]\n",
      "[-1, -1, 1, 1, -1]\n",
      "[-1, -1, 1, -1, -1]\n",
      "[-1, -1, 1, -1, 1]\n",
      "[-1, -1, -1, -1, 1]\n",
      "[-1, -1, -1, -1, -1]\n",
      "[-1, -1, -1, 1, -1]\n",
      "[-1, -1, -1, 1, 1]\n",
      "[-1, 1, -1, 1, 1]\n",
      "[-1, 1, -1, 1, -1]\n",
      "[-1, 1, -1, -1, -1]\n",
      "[-1, 1, -1, -1, 1]\n",
      "[-1, 1, 1, -1, 1]\n",
      "[-1, 1, 1, -1, -1]\n",
      "[-1, 1, 1, 1, -1]\n",
      "[-1, 1, 1, 1, 1]\n"
     ]
    },
    {
     "data": {
      "text/plain": [
       "5"
      ]
     },
     "execution_count": 2,
     "metadata": {},
     "output_type": "execute_result"
    }
   ],
   "source": []
  },
  {
   "cell_type": "code",
   "execution_count": null,
   "metadata": {},
   "outputs": [],
   "source": []
  }
 ],
 "metadata": {
  "kernelspec": {
   "display_name": "Python 3",
   "language": "python",
   "name": "python3"
  },
  "language_info": {
   "codemirror_mode": {
    "name": "ipython",
    "version": 3
   },
   "file_extension": ".py",
   "mimetype": "text/x-python",
   "name": "python",
   "nbconvert_exporter": "python",
   "pygments_lexer": "ipython3",
   "version": "3.9.13"
  }
 },
 "nbformat": 4,
 "nbformat_minor": 2
}
