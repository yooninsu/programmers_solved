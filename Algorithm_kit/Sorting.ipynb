{
 "cells": [
  {
   "cell_type": "markdown",
   "metadata": {},
   "source": [
    "## 정렬"
   ]
  },
  {
   "cell_type": "markdown",
   "metadata": {},
   "source": [
    "#### K번째수\n",
    "문제 설명\n",
    "\n",
    "배열 array의 i번째 숫자부터 j번째 숫자까지 자르고 정렬했을 때, k번째에 있는 수를 구하려 합니다.\n",
    "\n",
    "예를 들어 array가 [1, 5, 2, 6, 3, 7, 4], i = 2, j = 5, k = 3이라면\n",
    "\n",
    "1. array의 2번째부터 5번째까지 자르면 [5, 2, 6, 3]입니다.\n",
    "2. 1에서 나온 배열을 정렬하면 [2, 3, 5, 6]입니다.\n",
    "3. 2에서 나온 배열의 3번째 숫자는 5입니다.\n",
    "\n",
    "배열 array, [i, j, k]를 원소로 가진 2차원 배열 commands가 매개변수로 주어질 때, commands의 모든 원소에 대해 앞서 설명한 연산을 적용했을 때 나온 결과를 배열에 담아 return 하도록 solution 함수를 작성해주세요.\n",
    "\n",
    "제한사항\n",
    "- array의 길이는 1 이상 100 이하입니다.\n",
    "- array의 각 원소는 1 이상 100 이하입니다.\n",
    "- commands의 길이는 1 이상 50 이하입니다.\n",
    "- commands의 각 원소는 길이가 3입니다"
   ]
  },
  {
   "cell_type": "code",
   "execution_count": 1,
   "metadata": {},
   "outputs": [],
   "source": [
    "def solution(array, commands):\n",
    "    answer = []\n",
    "    for i in commands:\n",
    "        start = i[0]-1\n",
    "        end = i[1]\n",
    "        k = i[2]-1\n",
    "        if k > end - start+1:\n",
    "            return False\n",
    "        else:\n",
    "            new_array = array[start:end]\n",
    "            new_array.sort()\n",
    "            answer.append(new_array[k])\n",
    "    return answer"
   ]
  },
  {
   "cell_type": "code",
   "execution_count": 2,
   "metadata": {},
   "outputs": [],
   "source": [
    "array = [1, 5, 2, 6, 3, 7, 4]\n",
    "commands = [[2, 5, 3], [4, 4, 1], [1, 7, 3]]"
   ]
  },
  {
   "cell_type": "code",
   "execution_count": 3,
   "metadata": {},
   "outputs": [
    {
     "data": {
      "text/plain": [
       "[5, 6, 3]"
      ]
     },
     "execution_count": 3,
     "metadata": {},
     "output_type": "execute_result"
    }
   ],
   "source": [
    "solution(array,commands)"
   ]
  },
  {
   "cell_type": "markdown",
   "metadata": {},
   "source": [
    "#### 가장 큰 수"
   ]
  },
  {
   "cell_type": "markdown",
   "metadata": {},
   "source": [
    "0 또는 양의 정수가 주어졌을 때, 정수를 이어 붙여 만들 수 있는 가장 큰 수를 알아내 주세요.\n",
    "\n",
    "예를 들어, 주어진 정수가 [6, 10, 2]라면 [6102, 6210, 1062, 1026, 2610, 2106]를 만들 수 있고, 이중 가장 큰 수는 6210입니다.\n",
    "\n",
    "0 또는 양의 정수가 담긴 배열 numbers가 매개변수로 주어질 때, 순서를 재배치하여 만들 수 있는 가장 큰 수를 문자열로 바꾸어 return 하도록 solution 함수를 작성해주세요.\n",
    "\n",
    "\n",
    "제한 사항\n",
    "- numbers의 길이는 1 이상 100,000 이하입니다.\n",
    "- numbers의 원소는 0 이상 1,000 이하입니다.\n",
    "- 정답이 너무 클 수 있으니 문자열로 바꾸어 return 합니다.\n"
   ]
  },
  {
   "cell_type": "markdown",
   "metadata": {},
   "source": [
    "#### 문제 풀이\n",
    "\n",
    "자릿수 별로 정렬을 해야하기 때문에 숫자를 사전 순서(dictionary order) 로 정렬하기 위해 문자열로 치환하여 정렬한다. \\\n",
    "이 같은 방법으로 첫번째 자리가 같다면 두번째 자리를 비교하여 정렬한다.\n",
    "\n",
    "그러면 예시의 \\ \n",
    "numbers = [3, 30, 34, 5, 9] \\\n",
    "['9', '5', '34', '30', '3'] 로 정렬이 되는데 303보다 330이 더 크다. 이는 3>0 이기 때문인데,\n",
    "즉, 일의 자리 정렬된 상태에서 각 자리의 숫자도 크기 비교를 통해 만약 자리수가 크더라도 하위 자리수의 숫자가 가장 앞자리숫자보다 작을 경우 더 작은 숫자가 된다. \\\n",
    "이를 해결하기 위해 1000이하이기 때문에 각 숫자를 3번 반복한다면 해결이 가능하다.\n",
    "\n",
    "해결 예시\n",
    "- 보기 34, 30 ,3\n",
    "3번 반복\n",
    "343434, 303030, 333\n",
    "3자리로 끊어준다면\n",
    "343, 303, 333 - > 343 ,333, 303 으로 우리가 바라는 대로 정렬이 된다"
   ]
  },
  {
   "cell_type": "code",
   "execution_count": 23,
   "metadata": {},
   "outputs": [],
   "source": [
    "def solution(numbers):    \n",
    "    answer = \"\"\n",
    "    numbers = list(map(str,numbers))\n",
    "    numbers.sort(key = lambda x: [x*3][:3],reverse=True)\n",
    "    answer = str(int(answer.join(numbers)))\n",
    "    # [0,0,0]의 반례 해결 \n",
    "    # if sum(list(map(int,answer))) == 0:\n",
    "    #     return \"0\"\n",
    "    return answer\n",
    "\n"
   ]
  },
  {
   "cell_type": "code",
   "execution_count": 24,
   "metadata": {},
   "outputs": [
    {
     "data": {
      "text/plain": [
       "'0'"
      ]
     },
     "execution_count": 24,
     "metadata": {},
     "output_type": "execute_result"
    }
   ],
   "source": [
    "numbers = [0,0,0]\n",
    "solution(numbers)"
   ]
  },
  {
   "cell_type": "code",
   "execution_count": null,
   "metadata": {},
   "outputs": [],
   "source": []
  }
 ],
 "metadata": {
  "kernelspec": {
   "display_name": "Python 3",
   "language": "python",
   "name": "python3"
  },
  "language_info": {
   "codemirror_mode": {
    "name": "ipython",
    "version": 3
   },
   "file_extension": ".py",
   "mimetype": "text/x-python",
   "name": "python",
   "nbconvert_exporter": "python",
   "pygments_lexer": "ipython3",
   "version": "3.9.13"
  }
 },
 "nbformat": 4,
 "nbformat_minor": 2
}
