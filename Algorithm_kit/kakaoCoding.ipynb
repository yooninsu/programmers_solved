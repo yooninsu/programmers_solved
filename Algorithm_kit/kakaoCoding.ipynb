{
 "cells": [
  {
   "cell_type": "markdown",
   "metadata": {},
   "source": [
    "## 카카오 코딩테스트"
   ]
  },
  {
   "cell_type": "markdown",
   "metadata": {},
   "source": [
    "#### 가장 많이 받은 선물\n",
    "선물을 직접 전하기 힘들 때 카카오톡 선물하기 기능을 이용해 축하 선물을 보낼 수 있습니다. 당신의 친구들이 이번 달까지 선물을 주고받은 기록을 바탕으로 다음 달에 누가 선물을 많이 받을지 예측하려고 합니다.\n",
    "\n",
    "- 두 사람이 선물을 주고받은 기록이 있다면, 이번 달까지 두 사람 사이에 더 많은 선물을 준 사람이 다음 달에 선물을 하나 받습니다. \n",
    "    - 예를 들어 A가 B에게 선물을 5번 줬고, B가 A에게 선물을 3번 줬다면 다음 달엔 A가 B에게 선물을 하나 받습니다. \n",
    "- 두 사람이 선물을 주고받은 기록이을 주고받은 적이 없거나 정확히 같은 수로 선물을 주고받았다면, 다음 달엔 B가 A에게 선물을 하나 받습니다.  만약 두 사람의 선물 지수도 같다면 다음 달에 선물을 주고받지 않습니다. 하나도 없거나 주고받은 수가 같다면, 선물 지수가 더 큰 사람이 선물 지수가 더 작은 사람에게 선물을 하나 받습니다.  \n",
    "    - 선물 지수는 이번 달까지 자신이 친구들에게 준 선물의 수에서 받은 선물의 수를 뺀 값입니다. \n",
    "    - 예를 들어 A가 친구들에게 준 선물이 3개고 받은 선물이 10개라면 A의 선물 지수는 -7입니다. B가 친구들에게 준 선물이 3개고 받은 선물이 2개라면 B의 선물 지수는 1입니다. \n",
    "    - 만약 두 사람의 선물 지수도 같다면 다음 달에 선물을 주고받지 않습니다.\n",
    "위에서 설명한 규칙대로 다음 달에 선물을 주고받을 때, 당신은 선물을 가장 많이 받을 친구가 받을 선물의 수를 알고 싶습니다.\n",
    "\n",
    "친구들의 이름을 담은 1차원 문자열 배열 `friends` 이번 달까지 친구들이 주고받은 선물 기록을 담은 1차원 문자열 배열 `gifts`가 매개변수로 주어집니다. 이때, 다음달에 가장 많은 선물을 받는 친구가 받을 선물의 수를 return 하도록 solution 함수를 완성해 주세요. "
   ]
  },
  {
   "cell_type": "markdown",
   "metadata": {},
   "source": [
    "제한사항\n",
    "- 2 ≤ friends의 길이 = 친구들의 수 ≤ 50\n",
    "    - friends의 원소는 친구의 이름을 의미하는 알파벳 소문자로 이루어진 길이가 10 이하인 문자열입니다.\n",
    "    - 이름이 같은 친구는 없습니다.\n",
    "- 1 ≤ gifts의 길이 ≤ 10,000\n",
    "    - gifts의 원소는 \"A B\"형태의 문자열입니다. A는 선물을 준 친구의 이름을 B는 선물을 받은 친구의 이름을 의미하며 공백 하나로 구분됩니다.\n",
    "    - A와 B는 friends의 원소이며 A와 B가 같은 이름인 경우는 존재하지 않습니다.\n"
   ]
  },
  {
   "cell_type": "markdown",
   "metadata": {},
   "source": [
    "#### 문제풀이\n",
    "\n",
    "두 사람이 선물을 주고받은 기록이 하나도 없거나 주고받은 수가 같다면, 선물 지수가 더 큰 사람이 선물 지수가 더 작은 사람에게 선물을 하나 받습니다.\n",
    ">> 이 조건을 해결하기 위하여 relation 변수를 만든다. 만약, 두 사람이 선물을 받은    "
   ]
  },
  {
   "cell_type": "code",
   "execution_count": 97,
   "metadata": {},
   "outputs": [],
   "source": [
    "from collections import defaultdict\n",
    "\n",
    "def solution(friends, gifts):\n",
    "    sent_received = dict()\n",
    "    sender_receiver = defaultdict(int)\n",
    "    answer = dict()\n",
    "    for friend in friends:\n",
    "            sent_received[friend] = [0, 0]\n",
    "            answer[friend] = 0\n",
    "    for gift in gifts:\n",
    "        sender, receiver = gift.split(\" \")\n",
    "        if sender in sent_received:\n",
    "            sent_received[sender][0] += 1\n",
    "        if receiver in sent_received:\n",
    "            sent_received[receiver][1] += 1\n",
    "        sender_receiver[(sender,receiver)] +=1\n",
    "    for friend in sent_received.keys():\n",
    "        gift_score= sent_received[friend][0]-sent_received[friend][1]\n",
    "        sent_received[friend] = [sent_received[friend][0],sent_received[friend][1],gift_score]\n",
    "    for sender in friends:\n",
    "        need_to_receive = 0\n",
    "        for receiver in friends:\n",
    "            # 만약 주고 받은 경우에서 한 쪽이 더 많이 준 경우 준 사람이 하나 더 받아야함\n",
    "            if (sender,receiver) in sender_receiver.keys() or (receiver,sender) in sender_receiver.keys():\n",
    "                if sender_receiver[(sender,receiver)] > sender_receiver[(receiver,sender)]:\n",
    "                    answer[sender] +=1\n",
    "                # 만약 주고 받은 경우에 두 사람이 같은 횟수를 주고 받은 경우 두 사람 중 선물 지수가 높은 쪽이 받아야함\n",
    "                elif sender_receiver[(sender,receiver)] == sender_receiver[(receiver,sender)]:\n",
    "                    if sent_received[sender][2] > sent_received[receiver][2]:\n",
    "                        need_to_receive += 1\n",
    "                # 둘이 주고 받은 경우가 없다면 두 사람 중 선물 지수가 높은 사람이 받아야함\n",
    "                else:\n",
    "                    if sent_received[sender][2] > sent_received[receiver][2]:\n",
    "                        need_to_receive +=1\n",
    "        answer[sender] += need_to_receive\n",
    "    return answer, sender_receiver"
   ]
  },
  {
   "cell_type": "code",
   "execution_count": 95,
   "metadata": {},
   "outputs": [],
   "source": [
    "friends = [\"muzi\", \"ryan\", \"frodo\", \"neo\"]\n",
    "gifts = [\n",
    "    \"muzi frodo\",\n",
    "    \"muzi frodo\",\n",
    "    \"ryan muzi\",\n",
    "    \"ryan muzi\",\n",
    "    \"ryan muzi\",\n",
    "    \"frodo muzi\",\n",
    "    \"frodo ryan\",\n",
    "    \"neo muzi\",\n",
    "]"
   ]
  },
  {
   "cell_type": "code",
   "execution_count": 96,
   "metadata": {},
   "outputs": [
    {
     "data": {
      "text/plain": [
       "({'muzi': 1, 'ryan': 2, 'frodo': 2, 'neo': 1},\n",
       " defaultdict(int,\n",
       "             {('muzi', 'frodo'): 2,\n",
       "              ('ryan', 'muzi'): 3,\n",
       "              ('frodo', 'muzi'): 1,\n",
       "              ('frodo', 'ryan'): 1,\n",
       "              ('neo', 'muzi'): 1,\n",
       "              ('muzi', 'ryan'): 0,\n",
       "              ('muzi', 'neo'): 0,\n",
       "              ('ryan', 'frodo'): 0}))"
      ]
     },
     "execution_count": 96,
     "metadata": {},
     "output_type": "execute_result"
    }
   ],
   "source": [
    "solution(friends,gifts)"
   ]
  },
  {
   "cell_type": "code",
   "execution_count": 11,
   "metadata": {},
   "outputs": [
    {
     "data": {
      "text/plain": [
       "defaultdict(int,\n",
       "            {('alessandro', 'brad'): 1,\n",
       "             ('alessandro', 'joy'): 1,\n",
       "             ('alessandro', 'conan'): 1,\n",
       "             ('david', 'alessandro'): 1,\n",
       "             ('alessandro', 'david'): 1})"
      ]
     },
     "execution_count": 11,
     "metadata": {},
     "output_type": "execute_result"
    }
   ],
   "source": [
    "solution(friends,gifts)"
   ]
  },
  {
   "cell_type": "code",
   "execution_count": null,
   "metadata": {},
   "outputs": [],
   "source": [
    "from collections import defaultdict\n",
    "\n",
    "def solution(friends, gifts):\n",
    "    sent_received = dict()\n",
    "    sender_receiver = defaultdict(int)\n",
    "    answer = dict()\n",
    "    for friend in friends:\n",
    "            sent_received[friend] = [0, 0]\n",
    "            answer[friend] = 0\n",
    "    for gift in gifts:\n",
    "        sender, receiver = gift.split(\" \")\n",
    "        if sender in sent_received:\n",
    "            sent_received[sender][0] += 1\n",
    "        if receiver in sent_received:\n",
    "            sent_received[receiver][1] += 1\n",
    "        sender_receiver[(sender,receiver)] +=1\n",
    "    for friend in sent_received.keys():\n",
    "        gift_score= sent_received[friend][0]-sent_received[friend][1]\n",
    "        sent_received[friend] = [sent_received[friend][0],sent_received[friend][1],gift_score]\n",
    "    for sender in friends:\n",
    "        need_to_receive = 0\n",
    "        for receiver in friends:\n",
    "            # 만약 주고 받은 경우에서 한 쪽이 더 많이 준 경우 준 사람이 하나 더 받아야함\n",
    "            if (sender,receiver) in sender_receiver.keys() or (receiver,sender) in sender_receiver.keys():\n",
    "                if sender_receiver[(sender,receiver)] > sender_receiver[(receiver,sender)]:\n",
    "                    answer[sender] +=1\n",
    "                # 만약 주고 받은 경우에 두 사람이 같은 횟수를 주고 받은 경우 두 사람 중 선물 지수가 높은 쪽이 받아야함\n",
    "                elif sender_receiver[(sender,receiver)] == sender_receiver[(receiver,sender)]:\n",
    "                    if sent_received[sender][2] > sent_received[receiver][2]:\n",
    "                        need_to_receive += 1\n",
    "                # 둘이 주고 받은 경우가 없다면 두 사람 중 선물 지수가 높은 사람이 받아야함\n",
    "                else:\n",
    "                    if sent_received[sender][2] > sent_received[receiver][2]:\n",
    "                        need_to_receive +=1\n",
    "        answer[sender] += need_to_receive\n",
    "    return max(answer.values())"
   ]
  },
  {
   "cell_type": "markdown",
   "metadata": {},
   "source": [
    "#### 도넛과 막대 그래프"
   ]
  },
  {
   "cell_type": "markdown",
   "metadata": {},
   "source": [
    "def solution(edges):\n",
    "    answer = []\n",
    "    return answer"
   ]
  }
 ],
 "metadata": {
  "kernelspec": {
   "display_name": "Python 3",
   "language": "python",
   "name": "python3"
  },
  "language_info": {
   "codemirror_mode": {
    "name": "ipython",
    "version": 3
   },
   "file_extension": ".py",
   "mimetype": "text/x-python",
   "name": "python",
   "nbconvert_exporter": "python",
   "pygments_lexer": "ipython3",
   "version": "3.9.13"
  }
 },
 "nbformat": 4,
 "nbformat_minor": 2
}
