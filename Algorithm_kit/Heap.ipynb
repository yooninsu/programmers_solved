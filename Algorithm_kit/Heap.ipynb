{
 "cells": [
  {
   "cell_type": "markdown",
   "metadata": {},
   "source": [
    "### Heap"
   ]
  },
  {
   "cell_type": "markdown",
   "metadata": {},
   "source": [
    "Heap이란?\n",
    "\n",
    "힙은 큰 키(우선 순위)에 자주 액세스하거나 키(우선 순위) 중심으로 정렬된 시퀀스를 활용해야 할 때 유용한 자료구조. 힙은 한 노드가 최대 두 개의 자식노드를 가지면서, 마지막 레벨을 제외한 모든 레벨에서 노드들이 꽉 채워진 완전이진트리를 기본으로 함.\n",
    "\n",
    "heap order property \\\n",
    "각 노드의 값은 자신의 자식노드가 가진 값보다 크거나 같다(최대 힙, Max heap). 각 노드의 값은 자신의 자식노드가 가진 값보다 작거나 같다(최소 힙, Min heap).\n",
    "\n",
    "heap shape property \\\n",
    " 모양은 완전이진트리이다. 즉 마지막 레벨의 모든 노드는 왼쪽에 쏠려 있다. (이진트리에 대해서 자세한 내용은 이곳을 참고하시면 좋을 것 같습니다)"
   ]
  },
  {
   "cell_type": "markdown",
   "metadata": {},
   "source": [
    "Heapify \\\n",
    "주어진 자료구조에서 힙 성질을 만족하도록 하는 연산을 heapify라고 합니다.\n"
   ]
  },
  {
   "cell_type": "code",
   "execution_count": 20,
   "metadata": {},
   "outputs": [],
   "source": [
    "def heapify(unsorted, index, heap_size):\n",
    "    # largest element is at the root(top) of the subtree.(The element at the given 'index')\n",
    "    largest = index\n",
    "    left_index = 2 * index + 1\n",
    "    right_index = 2 * index + 2\n",
    "    # it checks that the left child exists (its index is within the heap_size)\n",
    "    if left_index < heap_size and unsorted[left_index] > unsorted[largest]:\n",
    "        largest = left_index\n",
    "    if right_index < heap_size and unsorted[right_index] > unsorted[largest]:\n",
    "        largest = right_index\n",
    "    if largest != index:\n",
    "        unsorted[largest], unsorted[index] = unsorted[index], unsorted[largest]"
   ]
  },
  {
   "cell_type": "code",
   "execution_count": 21,
   "metadata": {},
   "outputs": [],
   "source": [
    "def heap_sort(unsorted):\n",
    "    n = len(unsorted)\n",
    "    # BUILD-MAX-HEAP (A) : 위의 1단계\n",
    "    # 인덱스 : (n을 2로 나눈 몫-1)~0\n",
    "    # 최초 힙 구성시 배열의 중간부터 시작하면\n",
    "    # 이진트리 성질에 의해 모든 요소값을\n",
    "    # 서로 한번씩 비교할 수 있게 됨 : O(n)\n",
    "    for i in range(n // 2 - 1, -1, -1):\n",
    "        heapify(unsorted, i, n)\n",
    "    # Recurrent (B) : 2~4단계\n",
    "    # 한번 힙이 구성되면 개별 노드는\n",
    "    # 최악의 경우에도 트리의 높이(logn)/'\n",
    "    # 만큼의 자리 이동을 하게 됨\n",
    "    # 이런 노드들이 n개 있으므로 : O(nlogn)\n",
    "    for i in range(n - 1, 0, -1):\n",
    "        unsorted[0], unsorted[i] = unsorted[i], unsorted[0]\n",
    "        heapify(unsorted, 0, i)\n",
    "    return unsorted"
   ]
  },
  {
   "cell_type": "markdown",
   "metadata": {},
   "source": [
    "#### 문제 1"
   ]
  },
  {
   "cell_type": "markdown",
   "metadata": {},
   "source": [
    "매운 것을 좋아하는 Leo는 모든 음식의 스코빌 지수를 K 이상으로 만들고 싶습니다. \\\n",
    "모든 음식의 스코빌 지수를 K 이상으로 만들기 위해 Leo는 스코빌 지수가 가장 낮은 두 개의 음식을 아래와 같이 특별한 방법으로 섞어 새로운 음식을 만듭니다\n",
    "\n",
    "`섞은 음식의 스코빌 지수 = 가장 맵지 않은 음식의 스코빌 지수 + (두 번째로 맵지 않은 음식의 스코빌 지수 * 2)`\n",
    "\n",
    "Leo는 모든 음식의 스코빌 지수가 K 이상이 될 때까지 반복하여 섞습니다.\\\n",
    "Leo가 가진 음식의 스코빌 지수를 담은 배열 scoville과 원하는 스코빌 지수 K가 주어질 때, 모든 음식의 스코빌 지수를 K 이상으로 만들기 위해 섞어야 하는 최소 횟수를 return 하도록 solution 함수를 작성해주세요."
   ]
  },
  {
   "cell_type": "markdown",
   "metadata": {},
   "source": [
    "제한 사항\n",
    "- scoville의 길이는 2 이상 1,000,000 이하입니다.\n",
    "- K는 0 이상 1,000,000,000 이하입니다.\n",
    "- scoville의 원소는 각각 0 이상 1,000,000 이하입니다.\n",
    "- 모든 음식의 스코빌 지수를 K 이상으로 만들 수 없는 경우에는 -1을 return 합니다."
   ]
  },
  {
   "cell_type": "code",
   "execution_count": 29,
   "metadata": {},
   "outputs": [],
   "source": [
    "scoville = [1,2,3,9,10,12]\n",
    "K = 7"
   ]
  },
  {
   "cell_type": "code",
   "execution_count": 30,
   "metadata": {},
   "outputs": [],
   "source": [
    "# 먼저 리스트 scoville을 heapify 함수를 사용해 힙으로 만들어준다.\n",
    "# 가장 첫번째 원소, 즉 scoville[0]은 항상 힙의 루트 노드로 최솟값이기 떄문에 scoville[0]이 K보다 크거나 같아질 떄까지 반복문을 돌려준다.\n",
    "# pop을 하지 않고 인덱스로만 비교해준다면 두번쨰로 작은 값을 찾기 위해 세번째까지 비교해야 하지만, 이 문제에서는 최솟값 2개를 뽑아 다시 push 해주는 방식이다.\n",
    "# 가장 작은 값, 두 번째로 작은 값을 찾기 위해 pop을 두 번 해주고, 문제에서 제공한 공식을 적용한 값을 push 해준다. 한 번 섞은 것이므로 answer를 하나 올려준다.\n",
    "# 스코빌 지수를 K 이상으로 만들 수 없는 경우는 모두 섞어서 음식이 하나 남았는데도 그 음식의 스코빌 지수가 K보다 작은 경우이므로 if문으로 걸러준다."
   ]
  },
  {
   "cell_type": "code",
   "execution_count": 31,
   "metadata": {},
   "outputs": [],
   "source": [
    "\n",
    "# 최초 힙 생성, push\n",
    "# 힙 불변성을 유지하면서, item 값을 heap으로 푸시합니다.\n",
    "# heap_list = scoville\n",
    "# heapq.heappush(heap_list,4)\n",
    "# heapq.heappush(heap_list,1)\n",
    "# heapq.heappush(heap_list,7)\n",
    "\n",
    "#pop\n",
    "#힙 불변성을 유지하면서, heap에서 가장 작은 항목을 팝하고 반환합니다. 힙이 비어 있으면,\n",
    "# IndexError가 발생합니다. 팝 하지 않고  가장 작은 항목에 액세스하려면, heap[0]을 사용한다.\n",
    "# heapq.heappop(heap_list)\n",
    "\n",
    "# #pop하지 않고 최솟값 얻기\n",
    "# print(heap_list[0])\n",
    "\n",
    "# # 기존 리스트를 힙으로 변환\n",
    "# heapq.heapify(scoville)"
   ]
  },
  {
   "cell_type": "code",
   "execution_count": 32,
   "metadata": {},
   "outputs": [
    {
     "data": {
      "text/plain": [
       "[1, 2, 3, 9, 10, 12]"
      ]
     },
     "execution_count": 32,
     "metadata": {},
     "output_type": "execute_result"
    }
   ],
   "source": [
    "scoville"
   ]
  },
  {
   "cell_type": "code",
   "execution_count": 33,
   "metadata": {},
   "outputs": [],
   "source": [
    "import heapq\n",
    "\n",
    "def solution(scoville, K):\n",
    "    answer = 0\n",
    "    # 리스트 heapify\n",
    "    heapq.heapify(scoville)\n",
    "    # 가장 작은 원소가 K보다 클 때까지 진행\n",
    "    while scoville[0] < K:\n",
    "        ###\n",
    "        mix = heapq.heappop(scoville) + (heapq.heappop(scoville) * 2)\n",
    "        heapq.heappush(scoville,mix)\n",
    "        answer += 1\n",
    "        if len(scoville) == 1 and scoville[0] <K:\n",
    "            return -1\n",
    "    return answer"
   ]
  },
  {
   "cell_type": "code",
   "execution_count": 34,
   "metadata": {},
   "outputs": [
    {
     "data": {
      "text/plain": [
       "2"
      ]
     },
     "execution_count": 34,
     "metadata": {},
     "output_type": "execute_result"
    }
   ],
   "source": [
    "solution(scoville,K)"
   ]
  },
  {
   "cell_type": "markdown",
   "metadata": {},
   "source": [
    "#### 디스크 컨트롤러\n",
    "하드디스크는 한 번에 하나의 작업만 수행할 수 있습니다. 디스크 컨트롤러를 구현하는 방법은 여러 가지가 있습니다. 가장 일반적인 방법은 요청이 들어온 순서대로 처리하는 것입니다.\n",
    "\n",
    "예를들어\n",
    "\n",
    "`0ms 시점에 3ms가 소요되는 A작업 요청` \\\n",
    "`1ms 시점에 9ms가 소요되는 B작업 요청`  \n",
    "`2ms 시점에 6ms가 소요되는 C작업 요청`\n",
    "\n",
    "와 같은 요청이 들어왔습니다. \n",
    "\n",
    "한 번에 하나의 요청만을 수행할 수 있기 때문에 각각의 작업을 요청받은 순서대로 처리하면 다음과 같이 처리 됩니다.\n",
    "\n",
    "- A: 3ms 시점에 작업 완료 (요청에서 종료까지 : 3ms)\n",
    "- B: 1ms부터 대기하다가, 3ms 시점에 작업을 시작해서 12ms 시점에 작업 완료(요청에서 종료까지 : 11ms)\n",
    "- C: 2ms부터 대기하다가, 12ms 시점에 작업을 시작해서 18ms 시점에 작업 완료(요청에서 종료까지 : 16ms)\n",
    "\n",
    "이 때 각 작업의 요청부터 종료까지 걸린 시간의 평균은 10ms(= (3 + 11 + 16) / 3)가 됩니다.\n",
    "\n",
    "하지만 A → C → B 순서대로 처리하면\n",
    "- A: 3ms 시점에 작업 완료(요청에서 종료까지 : 3ms)\n",
    "- C: 2ms부터 대기하다가, 3ms 시점에 작업을 시작해서 9ms 시점에 작업 완료(요청에서 종료까지 : 7ms)\n",
    "- B: 1ms부터 대기하다가, 9ms 시점에 작업을 시작해서 18ms 시점에 작업 완료(요청에서 종료까지 : 17ms)\n",
    "\n",
    "이렇게 A → C → B의 순서로 처리하면 각 작업의 요청부터 종료까지 걸린 시간의 평균은 9ms(= (3 + 7 + 17) / 3)가 됩니다.\n",
    "\n",
    "각 작업에 대해 [작업이 요청되는 시점, 작업의 소요시간]을 담은 2차원 배열 jobs가 매개변수로 주어질 때, 작업의 요청부터 종료까지 걸린 시간의 평균을 가장 줄이는 방법으로 처리하면 평균이 얼마가 되는지 return 하도록 solution 함수를 작성해주세요. (단, 소수점 이하의 수는 버립니다)\n",
    "\n",
    "제한 사항\n",
    "- jobs의 길이는 1 이상 500 이하입니다.\n",
    "- jobs의 각 행은 하나의 작업에 대한 [작업이 요청되는 시점, 작업의 소요시간] 입니다.\n",
    "- 각 작업에 대해 작업이 요청되는 시간은 0 이상 1,000 이하입니다.\n",
    "- 각 작업에 대해 작업의 소요시간은 1 이상 1,000 이하입니다.\n",
    "- 하드디스크가 작업을 수행하고 있지 않을 때에는 먼저 요청이 들어온 작업부터 처리합니다."
   ]
  },
  {
   "cell_type": "markdown",
   "metadata": {},
   "source": [
    "#### 문제 풀이\n",
    "\n",
    "현재 시점에 작업할 수 있는 작업들을 힙에 넣는다.\n"
   ]
  },
  {
   "cell_type": "code",
   "execution_count": null,
   "metadata": {},
   "outputs": [],
   "source": [
    "jobs = [[0, 3], [1, 9], [2, 6]]\n",
    "\n",
    "def process(request,end):\n",
    "    \n",
    "\n",
    "\n",
    "def solution(jobs):\n",
    "    answer =\n",
    "\n",
    "    return answer   "
   ]
  }
 ],
 "metadata": {
  "kernelspec": {
   "display_name": "Python 3",
   "language": "python",
   "name": "python3"
  },
  "language_info": {
   "codemirror_mode": {
    "name": "ipython",
    "version": 3
   },
   "file_extension": ".py",
   "mimetype": "text/x-python",
   "name": "python",
   "nbconvert_exporter": "python",
   "pygments_lexer": "ipython3",
   "version": "3.9.13"
  }
 },
 "nbformat": 4,
 "nbformat_minor": 2
}
