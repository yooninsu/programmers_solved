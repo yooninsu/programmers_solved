{
 "cells": [
  {
   "cell_type": "code",
   "execution_count": 82,
   "metadata": {},
   "outputs": [
    {
     "name": "stdout",
     "output_type": "stream",
     "text": [
      "[4, 3, 1, 1, 3, 2, 4]\n"
     ]
    },
    {
     "data": {
      "text/plain": [
       "4"
      ]
     },
     "execution_count": 82,
     "metadata": {},
     "output_type": "execute_result"
    }
   ],
   "source": [
    "board = [[0,0,0,0,0],[0,0,1,0,3],[0,2,5,0,1],[4,2,4,4,2],[3,5,1,3,1]]\n",
    "moves = [1,5,3,5,1,2,1,4]\n",
    "pick = []\n",
    "result = []\n",
    "for i in moves:\n",
    "    for j in range(len(board)):\n",
    "        if board[j][i-1] != 0:\n",
    "            pick.append(board[j][i-1]   )\n",
    "            board[j][i-1] = 0\n",
    "            break\n",
    "print(pick)\n",
    "pick2 = pick.copy()\n",
    "i = 0\n",
    "while i <= len(pick2)-2:\n",
    "    if pick2[i] == pick2[i+1]:\n",
    "        result.append(pick2[i])\n",
    "        pick2.remove(pick2[i])\n",
    "        pick2.remove(pick2[i])\n",
    "        i = 0\n",
    "    else:\n",
    "        i +=1\n",
    "answer = len(pick)-len(pick2)\n",
    "answer"
   ]
  },
  {
   "cell_type": "code",
   "execution_count": 79,
   "metadata": {},
   "outputs": [],
   "source": [
    "def solution(board, moves):\n",
    "    pick = []\n",
    "    result = []\n",
    "    for i in moves:\n",
    "        for j in range(len(board)):\n",
    "            if board[j][i-1] != 0:\n",
    "                pick.append(board[j][i-1]   )\n",
    "                board[j][i-1] = 0\n",
    "                while len(pick) >= 2 and pick[-1] == pick[-2]:\n",
    "                                    result.append(pick.pop())\n",
    "                                    result.append(pick.pop())\n",
    "                break\n",
    "    answer = len(result)\n",
    "    return answer"
   ]
  },
  {
   "cell_type": "code",
   "execution_count": 80,
   "metadata": {},
   "outputs": [
    {
     "data": {
      "text/plain": [
       "4"
      ]
     },
     "execution_count": 80,
     "metadata": {},
     "output_type": "execute_result"
    }
   ],
   "source": [
    "board = [[0,0,0,0,0],[0,0,1,0,3],[0,2,5,0,1],[4,2,4,4,2],[3,5,1,3,1]]\n",
    "moves = [1,5,3,5,1,2,1,4]\n",
    "solution(board,moves)\n"
   ]
  },
  {
   "cell_type": "code",
   "execution_count": null,
   "metadata": {},
   "outputs": [],
   "source": [
    "[0,0,0,0,0]\n",
    "[0,0,1,0,3]\n",
    "[0,2,5,0,1]\n",
    "[4,2,4,4,2]\n",
    "[3,5,1,3,1]"
   ]
  }
 ],
 "metadata": {
  "kernelspec": {
   "display_name": "Python 3",
   "language": "python",
   "name": "python3"
  },
  "language_info": {
   "codemirror_mode": {
    "name": "ipython",
    "version": 3
   },
   "file_extension": ".py",
   "mimetype": "text/x-python",
   "name": "python",
   "nbconvert_exporter": "python",
   "pygments_lexer": "ipython3",
   "version": "3.9.13"
  },
  "orig_nbformat": 4
 },
 "nbformat": 4,
 "nbformat_minor": 2
}
