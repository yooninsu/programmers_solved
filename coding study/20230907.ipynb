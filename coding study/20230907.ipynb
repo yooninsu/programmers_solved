{
 "cells": [
  {
   "cell_type": "markdown",
   "metadata": {},
   "source": [
    "|no|\tnew_id|\tresult|\n",
    "|---|---|---|\n",
    "|예1|\t\"...!@BaT#*..y.abcdefghijklm\"|\"bat.y.abcdefghi\"\n",
    "예2\t|\"z-+.^.\"\t|\"z--\"\n",
    "예3\t|\"=.=\"|\t\"aaa\"\n",
    "예4\t|\"123_.def\"\t|\"123_.def\"\n",
    "예5\t|\"abcdefghijklmn.p\"\t|\"abcdefghijklmn\""
   ]
  },
  {
   "cell_type": "code",
   "execution_count": 34,
   "metadata": {},
   "outputs": [
    {
     "name": "stdout",
     "output_type": "stream",
     "text": [
      "45 95 46\n"
     ]
    }
   ],
   "source": [
    "print(ord(\"-\"),ord('_'),ord(\".\"))"
   ]
  },
  {
   "cell_type": "code",
   "execution_count": 59,
   "metadata": {},
   "outputs": [
    {
     "name": "stdout",
     "output_type": "stream",
     "text": [
      "123_.def\n"
     ]
    }
   ],
   "source": [
    "def solution(new_id):\n",
    "    #1단계\n",
    "    new_id = new_id.lower()\n",
    "    # print(new_id)     \n",
    "    #2단계\n",
    "    new_id2 = []\n",
    "    valid_characters = ['-', '.', '_'] + [chr(i) for i in range(48,58)]+[chr(i) for i in range(97, 123)]  # 유효한 문자 목록\n",
    "    for char in new_id:\n",
    "        if char in valid_characters:\n",
    "            new_id2.append(char)\n",
    "    # print(new_id2)\n",
    "    # 3단계\n",
    "    prev_i = None\n",
    "    new_id3 = []\n",
    "    for char in new_id2:\n",
    "        if not new_id3 or char != \".\" or new_id3[-1] != \".\":\n",
    "            new_id3.append(char)\n",
    "    # print(new_id3)\n",
    "    # 4단계, 5단계\n",
    "    try:\n",
    "        if new_id3[0] == \".\":\n",
    "            new_id3.pop(0)  # 리스트에서 첫 번째 원소 제거\n",
    "        if new_id3[-1] == \".\":\n",
    "            new_id3.pop()   # 리스트에서 마지막 원소 제거\n",
    "    except IndexError:\n",
    "        if not new_id3:\n",
    "            new_id3.append('a')\n",
    "    # print(new_id3)\n",
    "    # 6,7단계\n",
    "    new_id4 = []\n",
    "    if len(new_id3) >= 16:\n",
    "        new_id4 = new_id3[:15]  # 처음 15개 문자를 선택\n",
    "        if new_id4[-1] == \".\":\n",
    "            new_id4.pop()  # 리스트에서 마지막 원소 제거\n",
    "    elif len(new_id3) <= 2: \n",
    "        last = new_id3[-1]\n",
    "        new_id4 = new_id3\n",
    "        while len(new_id4) < 3:\n",
    "            new_id4.append(last)\n",
    "    else:\n",
    "        new_id4 = new_id3\n",
    "    # print(new_id4)\n",
    "    answer = \"\".join(new_id4)\n",
    "    return answer\n",
    "new_id = \"123_.def\"\n",
    "result = solution(new_id)\n",
    "print(result)\n"
   ]
  },
  {
   "cell_type": "code",
   "execution_count": 58,
   "metadata": {},
   "outputs": [
    {
     "name": "stdout",
     "output_type": "stream",
     "text": [
      "123_.def\n",
      "['1', '2', '3', '_', '.', 'd', 'e', 'f']\n",
      "['1', '2', '3', '_', '.', 'd', 'e', 'f']\n",
      "['1', '2', '3', '_', '.', 'd', 'e', 'f']\n",
      "['1', '2', '3', '_', '.', 'd', 'e', 'f']\n"
     ]
    },
    {
     "data": {
      "text/plain": [
       "'123_.def'"
      ]
     },
     "execution_count": 58,
     "metadata": {},
     "output_type": "execute_result"
    }
   ],
   "source": [
    "solution(new_id)"
   ]
  },
  {
   "cell_type": "code",
   "execution_count": null,
   "metadata": {},
   "outputs": [],
   "source": []
  }
 ],
 "metadata": {
  "kernelspec": {
   "display_name": "Python 3",
   "language": "python",
   "name": "python3"
  },
  "language_info": {
   "codemirror_mode": {
    "name": "ipython",
    "version": 3
   },
   "file_extension": ".py",
   "mimetype": "text/x-python",
   "name": "python",
   "nbconvert_exporter": "python",
   "pygments_lexer": "ipython3",
   "version": "3.9.13"
  },
  "orig_nbformat": 4
 },
 "nbformat": 4,
 "nbformat_minor": 2
}
