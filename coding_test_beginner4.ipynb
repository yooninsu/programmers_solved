{
 "cells": [
  {
   "cell_type": "markdown",
   "metadata": {},
   "source": [
    "#### 진료순서 정하기\n",
    "\n",
    "문제풀이\n",
    "- 큰 숫자의 인덱스가 가장 앞에 오도록 정렬하는 알고리즘.\n",
    "- array의 모든 원소를 search 후 가장 큰 원소를 answer array에 저장\n",
    "- input array에서 해당 원소 제거"
   ]
  },
  {
   "cell_type": "code",
   "execution_count": 9,
   "metadata": {},
   "outputs": [],
   "source": [
    "def quicksort(arr, low, high):\n",
    "    if low < high:\n",
    "        # 파티션 함수를 사용하여 피벗을 기준으로 배열을 두 부분으로 나눔\n",
    "        pi = partition(arr, low, high)\n",
    "\n",
    "        # 피벗 왼쪽 부분을 재귀적으로 정렬\n",
    "        quicksort(arr, low, pi - 1)\n",
    "        # 피벗 오른쪽 부분을 재귀적으로 정렬\n",
    "        quicksort(arr, pi + 1, high)\n",
    "\n",
    "def partition(arr, low, high):\n",
    "    # 피벗을 배열의 마지막 요소로 선택\n",
    "    pivot = arr[high]\n",
    "    i = low - 1\n",
    "\n",
    "    for j in range(low, high):\n",
    "        # 현재 요소가 피벗보다 크면 i를 증가시키고 현재 요소와 arr[i]를 교환\n",
    "        if arr[j] > pivot:\n",
    "            i += 1\n",
    "            arr[i], arr[j] = arr[j], arr[i]\n",
    "\n",
    "    # 피벗을 올바른 위치로 이동\n",
    "    arr[i + 1], arr[high] = arr[high], arr[i + 1]\n",
    "    return i + 1\n",
    "\n",
    "def solution(emergency):\n",
    "    answer = []\n",
    "    original_emergency = emergency.copy()\n",
    "    quicksort(emergency,0,len(emergency)-1)\n",
    "    for i in emergency:\n",
    "        answer.append(original_emergency.index(i)+1)\n",
    "    return answer\n"
   ]
  },
  {
   "cell_type": "code",
   "execution_count": 10,
   "metadata": {},
   "outputs": [
    {
     "data": {
      "text/plain": [
       "[2, 3, 1]"
      ]
     },
     "execution_count": 10,
     "metadata": {},
     "output_type": "execute_result"
    }
   ],
   "source": [
    "solution([3, 76, 24])"
   ]
  },
  {
   "cell_type": "markdown",
   "metadata": {},
   "source": [
    "#### 개미군단\n",
    "\n",
    "개미 군단이 사냥을 나가려고 합니다. 개미군단은 사냥감의 체력에 딱 맞는 병력을 데리고 나가려고 합니다. \\\n",
    "장군개미는 5의 공격력을, 병정개미는 3의 공격력을 일개미는 1의 공격력을 가지고 있습니다. \\\n",
    " 예를 들어 체력 23의 여치를 사냥하려고 할 때, 일개미 23마리를 데리고 가도 되지만, \\\n",
    "장군개미 네 마리와 병정개미 한 마리를 데리고 간다면 더 적은 병력으로 사냥할 수 있습니다. \\\n",
    "사냥감의 체력 hp가 매개변수로 주어질 때, \\\n",
    "사냥감의 체력에 딱 맞게 최소한의 병력을 구성하려면 \\\n",
    "몇 마리의 개미가 필요한지를 return하도록 solution 함수를 완성해주세요.\n",
    "\n"
   ]
  },
  {
   "cell_type": "code",
   "execution_count": 12,
   "metadata": {},
   "outputs": [],
   "source": [
    "def solution(hp):\n",
    "    general_ant = 5\n",
    "    soldier_ant = 3\n",
    "    normal_ant = 1\n",
    "    num_general_ant = hp // general_ant\n",
    "    num_solder_ant = (hp-num_general_ant*general_ant) // soldier_ant\n",
    "    num_normal_ant = (hp-num_general_ant*general_ant-num_solder_ant*soldier_ant) // normal_ant\n",
    "    answer = num_general_ant + num_solder_ant +num_normal_ant\n",
    "    return answer"
   ]
  },
  {
   "cell_type": "code",
   "execution_count": 17,
   "metadata": {},
   "outputs": [],
   "source": [
    "def solution(hp):\n",
    "    # Ants' attack levels\n",
    "    attack_levels = {'general_ant': 5, 'soldier_ant': 3, 'normal_ant': 1}\n",
    "    \n",
    "    # Initialize the answer\n",
    "    answer = 0\n",
    "    \n",
    "    # Process each ant type starting from the highest attack level\n",
    "    for ant, attack in attack_levels.items():\n",
    "        # Calculate the number of hits from the current ant type\n",
    "        num_hits = hp // attack\n",
    "        # Update the remaining hp\n",
    "        hp -= num_hits * attack\n",
    "        # Update the total number of hits\n",
    "        answer += num_hits\n",
    "    \n",
    "    return answer\n"
   ]
  },
  {
   "cell_type": "code",
   "execution_count": 18,
   "metadata": {},
   "outputs": [
    {
     "data": {
      "text/plain": [
       "201"
      ]
     },
     "execution_count": 18,
     "metadata": {},
     "output_type": "execute_result"
    }
   ],
   "source": [
    "solution(999)"
   ]
  },
  {
   "cell_type": "markdown",
   "metadata": {},
   "source": [
    "#### 모스부호"
   ]
  },
  {
   "cell_type": "code",
   "execution_count": 27,
   "metadata": {},
   "outputs": [],
   "source": [
    "def solution(letter):\n",
    "    answer = \"\"\n",
    "    morse = { \n",
    "        '.-':'a','-...':'b','-.-.':'c','-..':'d','.':'e','..-.':'f',\n",
    "        '--.':'g','....':'h','..':'i','.---':'j','-.-':'k','.-..':'l',\n",
    "        '--':'m','-.':'n','---':'o','.--.':'p','--.-':'q','.-.':'r',\n",
    "        '...':'s','-':'t','..-':'u','...-':'v','.--':'w','-..-':'x',\n",
    "        '-.--':'y','--..':'z'\n",
    "    }\n",
    "    signal = letter.split(\" \")\n",
    "    for char in signal:\n",
    "        answer += morse[char]\n",
    "    return answer"
   ]
  },
  {
   "cell_type": "code",
   "execution_count": 28,
   "metadata": {},
   "outputs": [
    {
     "data": {
      "text/plain": [
       "'hello'"
      ]
     },
     "execution_count": 28,
     "metadata": {},
     "output_type": "execute_result"
    }
   ],
   "source": [
    "solution(\".... . .-.. .-.. ---\")"
   ]
  },
  {
   "cell_type": "code",
   "execution_count": 32,
   "metadata": {},
   "outputs": [],
   "source": [
    "def solution(rsp):\n",
    "    win = {\"2\":\"0\",\"5\":\"2\",\"0\":\"5\"}\n",
    "    return \"\".join([win[i] for i in rsp])"
   ]
  },
  {
   "cell_type": "code",
   "execution_count": 33,
   "metadata": {},
   "outputs": [
    {
     "data": {
      "text/plain": [
       "'052'"
      ]
     },
     "execution_count": 33,
     "metadata": {},
     "output_type": "execute_result"
    }
   ],
   "source": [
    "solution(\"205\")"
   ]
  },
  {
   "cell_type": "markdown",
   "metadata": {},
   "source": [
    "#### 소수 만들기\n",
    "주어진 숫자 중 3개의 수를 더했을 때 소수가 되는 경우의 개수를 구하려고 합니다. \\un\n",
    "숫자들이 들어있는 배열 nums가 매개변수로 주어질 때, \\\n",
    "nums에 있는 숫자들 중 서로 다른 3개를 골라 더했을 때 \\\n",
    "소수가 되는 경우의 개수를 return 하도록 solution 함수를 완성해주세요.\n",
    "\n",
    "제한사항\n",
    "- nums에 들어있는 숫자의 개수는 3개 이상 50개 이하입니다.\n",
    "- nums의 각 원소는 1 이상 1,000 이하의 자연수이며, 중복된 숫자가 들어있지 않습니다.\n"
   ]
  },
  {
   "cell_type": "code",
   "execution_count": 63,
   "metadata": {},
   "outputs": [],
   "source": [
    "from itertools import combinations\n",
    "import math\n",
    "\n",
    "# 소수 판별 함수\n",
    "def isprime(x):\n",
    "    if x < 2:\n",
    "        return False\n",
    "    for i in range(2, int(math.sqrt(x)) + 1):\n",
    "        if x % i == 0:\n",
    "            return False\n",
    "    return True\n",
    "            \n",
    "def solution(nums):\n",
    "    answer = 0\n",
    "    # 3개의 합으로 재현 가능한 모든 합 구하기\n",
    "    for comb in combinations(nums, 3):\n",
    "        if isprime(sum(comb)):\n",
    "            answer += 1\n",
    "    return answer\n"
   ]
  },
  {
   "cell_type": "code",
   "execution_count": 64,
   "metadata": {},
   "outputs": [
    {
     "data": {
      "text/plain": [
       "4"
      ]
     },
     "execution_count": 64,
     "metadata": {},
     "output_type": "execute_result"
    }
   ],
   "source": [
    "solution([1,2,7,6,4])"
   ]
  },
  {
   "cell_type": "markdown",
   "metadata": {},
   "source": [
    "#### 예산\n",
    "S사에서는 각 부서에 필요한 물품을 지원해 주기 위해 부서별로 물품을 구매하는데 필요한 금액을 조사했습니다. \\\n",
    "그러나, 전체 예산이 정해져 있기 때문에 모든 부서의 물품을 구매해 줄 수는 없습니다. 그래서 최대한 많은 부서의 물품을 구매해 줄 수 있도록 하려고 합니다.\n",
    "\n",
    "물품을 구매해 줄 때는 각 부서가 신청한 금액만큼을 모두 지원해 줘야 합니다. \\\n",
    "예를 들어 1,000원을 신청한 부서에는 정확히 1,000원을 지원해야 하며, \\\n",
    "1,000원보다 적은 금액을 지원해 줄 수는 없습니다.\n",
    "\n",
    "부서별로 신청한 금액이 들어있는 배열 d와 예산 budget이 매개변수로 주어질 때, \\\n",
    "최대 몇 개의 부서에 물품을 지원할 수 있는지 return 하도록 solution 함수를 완성해주세요.\n",
    "\n",
    "제한사항\n",
    "- d는 부서별로 신청한 금액이 들어있는 배열이며, 길이(전체 부서의 개수)는 1 이상 100 이하입니다.\n",
    "- d의 각 원소는 부서별로 신청한 금액을 나타내며, 부서별 신청 금액은 1 이상 100,000 이하의 자연수입니다.\n",
    "- budget은 예산을 나타내며, 1 이상 10,000,000 이하의 자연수입니다."
   ]
  },
  {
   "cell_type": "markdown",
   "metadata": {},
   "source": [
    "#### 문제풀이\n",
    "우선 모든 부서별 신청한 금액을 정렬하여 가장 낮은 수부터 예산에서 빼는 방식."
   ]
  },
  {
   "cell_type": "code",
   "execution_count": 104,
   "metadata": {},
   "outputs": [],
   "source": [
    "def solution(d, budget):\n",
    "    d.sort() \n",
    "    for i in range(len(d)):\n",
    "        if budget - d[i] >= 0: # budget에서 신청한 금액을 빼도 0보다 크다면\n",
    "            budget -= d[i]  # budget에서 해당 신청 금액을 차감\n",
    "        else:\n",
    "            return i # 만약 현재 금액을 빼면 budget이 마이너스가 될 경우 현재 전 까지의 신청한 금액의 개수를 return\n",
    "    return i+1 # 모두 빼도 budget이 남으면 전체 개수 출력"
   ]
  },
  {
   "cell_type": "code",
   "execution_count": 82,
   "metadata": {},
   "outputs": [
    {
     "ename": "IndexError",
     "evalue": "list index out of range",
     "output_type": "error",
     "traceback": [
      "\u001b[1;31m---------------------------------------------------------------------------\u001b[0m",
      "\u001b[1;31mIndexError\u001b[0m                                Traceback (most recent call last)",
      "Cell \u001b[1;32mIn[82], line 1\u001b[0m\n\u001b[1;32m----> 1\u001b[0m \u001b[43msolution\u001b[49m\u001b[43m(\u001b[49m\u001b[43m[\u001b[49m\u001b[38;5;241;43m1\u001b[39;49m\u001b[43m,\u001b[49m\u001b[38;5;241;43m1\u001b[39;49m\u001b[43m,\u001b[49m\u001b[38;5;241;43m1\u001b[39;49m\u001b[43m,\u001b[49m\u001b[38;5;241;43m1\u001b[39;49m\u001b[43m,\u001b[49m\u001b[38;5;241;43m1\u001b[39;49m\u001b[43m]\u001b[49m\u001b[43m \u001b[49m\u001b[43m,\u001b[49m\u001b[38;5;241;43m10\u001b[39;49m\u001b[43m)\u001b[49m\n",
      "Cell \u001b[1;32mIn[81], line 5\u001b[0m, in \u001b[0;36msolution\u001b[1;34m(d, budget)\u001b[0m\n\u001b[0;32m      3\u001b[0m i \u001b[38;5;241m=\u001b[39m \u001b[38;5;241m0\u001b[39m\n\u001b[0;32m      4\u001b[0m \u001b[38;5;28;01mwhile\u001b[39;00m budget :\n\u001b[1;32m----> 5\u001b[0m     budget \u001b[38;5;241m-\u001b[39m\u001b[38;5;241m=\u001b[39m \u001b[43md\u001b[49m\u001b[43m[\u001b[49m\u001b[43mi\u001b[49m\u001b[43m]\u001b[49m\n\u001b[0;32m      6\u001b[0m     \u001b[38;5;28;01mif\u001b[39;00m budget \u001b[38;5;241m<\u001b[39m\u001b[38;5;241m0\u001b[39m:\n\u001b[0;32m      7\u001b[0m         \u001b[38;5;28;01mbreak\u001b[39;00m\n",
      "\u001b[1;31mIndexError\u001b[0m: list index out of range"
     ]
    }
   ],
   "source": []
  },
  {
   "cell_type": "code",
   "execution_count": null,
   "metadata": {},
   "outputs": [],
   "source": []
  }
 ],
 "metadata": {
  "kernelspec": {
   "display_name": "Python 3",
   "language": "python",
   "name": "python3"
  },
  "language_info": {
   "codemirror_mode": {
    "name": "ipython",
    "version": 3
   },
   "file_extension": ".py",
   "mimetype": "text/x-python",
   "name": "python",
   "nbconvert_exporter": "python",
   "pygments_lexer": "ipython3",
   "version": "3.9.13"
  }
 },
 "nbformat": 4,
 "nbformat_minor": 2
}
