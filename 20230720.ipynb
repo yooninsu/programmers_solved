{
 "cells": [
  {
   "cell_type": "markdown",
   "metadata": {},
   "source": [
    "## 2016년\n",
    "\n",
    "\n",
    "2016년 1월 1일은 금요일입니다. 2016년 a월 b일은 무슨 요일일까요? 두 수 a ,b를 입력받아 2016년 a월 b일이 무슨 요일인지 리턴하는 함수, solution을 완성하세요. 요일의 이름은 일요일부터 토요일까지 각각 SUN,MON,TUE,WED,THU,FRI,SAT\n",
    "\n",
    "입니다. 예를 들어 a=5, b=24라면 5월 24일은 화요일이므로 문자열 \"TUE\"를 반환하세요.\n",
    "\n",
    "제한 조건\n",
    "2016년은 윤년입니다.\n",
    "2016년 a월 b일은 실제로 있는 날입니다. (13월 26일이나 2월 45일같은 날짜는 주어지지 않습니다)"
   ]
  },
  {
   "cell_type": "code",
   "execution_count": 8,
   "metadata": {},
   "outputs": [
    {
     "name": "stdout",
     "output_type": "stream",
     "text": [
      "TUE\n"
     ]
    }
   ],
   "source": [
    "def solution(a,b):\n",
    "    dow = [\"FRI\",\"SAT\",\"SUN\",\"MON\",\"TUE\",\"WED\",\"THU\"]\n",
    "    daylist = [31,29,31,30,31,30,31,31,30,31,30,31]\n",
    "    temp =[]\n",
    "    count =0\n",
    "    for i in range(a):\n",
    "        temp.append(daylist[i])\n",
    "        if i == a-1:\n",
    "            count +=b\n",
    "        else:\n",
    "            count = sum(temp)\n",
    "        \n",
    "    for k in range(count):\n",
    "        result = dow[k%7]\n",
    "    print(result)\n",
    "solution(5,24)"
   ]
  },
  {
   "cell_type": "markdown",
   "metadata": {},
   "source": [
    "## 명예의 전당 (1)\n",
    "\n",
    "\n",
    "문제 설명\n",
    "\"명예의 전당\"이라는 TV 프로그램에서는 매일 1명의 가수가 노래를 부르고, 시청자들의 문자 투표수로 가수에게 점수를 부여합니다. 매일 출연한 가수의 점수가 지금까지 출연 가수들의 점수 중 상위 k번째 이내이면 해당 가수의 점수를 명예의 전당이라는 목록에 올려 기념합니다. 즉 프로그램 시작 이후 초기에 k일까지는 모든 출연 가수의 점수가 명예의 전당에 오르게 됩니다. k일 다음부터는 출연 가수의 점수가 기존의 명예의 전당 목록의 k번째 순위의 가수 점수보다 더 높으면, 출연 가수의 점수가 명예의 전당에 오르게 되고 기존의 k번째 순위의 점수는 명예의 전당에서 내려오게 됩니다.\n",
    "\n",
    "이 프로그램에서는 매일 \"명예의 전당\"의 최하위 점수를 발표합니다. 예를 들어, k = 3이고, 7일 동안 진행된 가수의 점수가 [10, 100, 20, 150, 1, 100, 200]이라면, 명예의 전당에서 발표된 점수는 아래의 그림과 같이 [10, 10, 10, 20, 20, 100, 100]입니다.\n",
    "\n",
    "명예의 전당 목록의 점수의 개수 k, 1일부터 마지막 날까지 출연한 가수들의 점수인 score가 주어졌을 때, 매일 발표된 명예의 전당의 최하위 점수를 return하는 solution 함수를 완성해주세요.\n",
    "\n",
    "제한사항\n",
    "3 ≤ k ≤ 100\n",
    "\n",
    "7 ≤ score의 길이 ≤ 1,000\n",
    "0 ≤ score[i] ≤ 2,000\n"
   ]
  },
  {
   "cell_type": "code",
   "execution_count": 11,
   "metadata": {},
   "outputs": [],
   "source": [
    "def solution(k,score):\n",
    "    temp = []\n",
    "    answer = []\n",
    "    for i in range(len(score)):\n",
    "        temp.append(score[i]) # temp에 박는다.\n",
    "        temp = sorted(temp,reverse=True) # temp에 있는 정렬시킴 정렬 알고리즘으로 내림차순으로 합니다.\n",
    "        if len(temp) <= k : #꼴찌를 계속 붙임\n",
    "            answer.append(temp[-1])\n",
    "        else: # 방금 붙은 점수 정렬이 되서 또 가장 마지막에 젤 꼴찌 남음. \n",
    "            temp.pop() # 뺴 버립니다.\n",
    "            answer.append(temp[-1]) # 꼴찌를 다시 정답에 붙입니다.\n",
    "    return answer # 그래서 정답 발생\n"
   ]
  },
  {
   "cell_type": "markdown",
   "metadata": {},
   "source": [
    "### 폰켓몬\n",
    "\n",
    "당신은 폰켓몬을 잡기 위한 오랜 여행 끝에, 홍 박사님의 연구실에 도착했습니다. 홍 박사님은 당신에게 자신의 연구실에 있는 총 N 마리의 폰켓몬 중에서 N/2마리를 가져가도 좋다고 했습니다.\n",
    "홍 박사님 연구실의 폰켓몬은 종류에 따라 번호를 붙여 구분합니다. 따라서 같은 종류의 폰켓몬은 같은 번호를 가지고 있습니다. 예를 들어 연구실에 총 4마리의 폰켓몬이 있고, 각 폰켓몬의 종류 번호가 [3번, 1번, 2번, 3번]이라면 이는 3번 폰켓몬 두 마리, 1번 폰켓몬 한 마리, 2번 폰켓몬 한 마리가 있음을 나타냅니다. 이때, 4마리의 폰켓몬 중 2마리를 고르는 방법은 다음과 같이 6가지가 있습니다.\n",
    "\n",
    "첫 번째(3번), 두 번째(1번) 폰켓몬을 선택\n",
    "첫 번째(3번), 세 번째(2번) 폰켓몬을 선택\n",
    "첫 번째(3번), 네 번째(3번) 폰켓몬을 선택\n",
    "두 번째(1번), 세 번째(2번) 폰켓몬을 선택\n",
    "두 번째(1번), 네 번째(3번) 폰켓몬을 선택\n",
    "세 번째(2번), 네 번째(3번) 폰켓몬을 선택\n",
    "이때, 첫 번째(3번) 폰켓몬과 네 번째(3번) 폰켓몬을 선택하는 방법은 한 종류(3번 폰켓몬 두 마리)의 폰켓몬만 가질 수 있지만, 다른 방법들은 모두 두 종류의 폰켓몬을 가질 수 있습니다. 따라서 위 예시에서 가질 수 있는 폰켓몬 종류 수의 최댓값은 2가 됩니다.\n",
    "당신은 최대한 다양한 종류의 폰켓몬을 가지길 원하기 때문에, 최대한 많은 종류의 폰켓몬을 포함해서 N/2마리를 선택하려 합니다. N마리 폰켓몬의 종류 번호가 담긴 배열 nums가 매개변수로 주어질 때, N/2마리의 폰켓몬을 선택하는 방법 중, 가장 많은 종류의 폰켓몬을 선택하는 방법을 찾아, 그때의 폰켓몬 종류 번호의 개수를 return 하도록 solution 함수를 완성해주세요.\n",
    "\n",
    "제한사항\n",
    "nums는 폰켓몬의 종류 번호가 담긴 1차원 배열입니다.\n",
    "nums의 길이(N)는 1 이상 10,000 이하의 자연수이며, 항상 짝수로 주어집니다.\n",
    "폰켓몬의 종류 번호는 1 이상 200,000 이하의 자연수로 나타냅니다.\n",
    "가장 많은 종류의 폰켓몬을 선택하는 방법이 여러 가지인 경우에도, 선택할 수 있는 폰켓몬 종류 개수의 최댓값 하나만 return 하면 됩니다.\n",
    "##### 입출력의 예\n",
    "|nums|return|\n",
    "|---|:---:|\n",
    "|[3,1,2,3]|\t2|\n",
    "|[3,3,3,2,2,4]|\t3|\n",
    "|[3,3,3,2,2,2]|\t2|"
   ]
  },
  {
   "cell_type": "code",
   "execution_count": 30,
   "metadata": {},
   "outputs": [],
   "source": [
    "nums = [3,1,2,3]\t\n",
    "def solution(nums):\n",
    "    pocketcom = dict()\n",
    "    for i in nums:\n",
    "        if i not in pocketcom.keys():\n",
    "            pocketcom[i] = 1\n",
    "        else:\n",
    "            pocketcom[i] = 1\n",
    "    if len(pocketcom) <= len(nums)/2:\n",
    "        answer = len(pocketcom)\n",
    "    else:\n",
    "        answer = int(len(nums)/2)\n",
    "    return answer"
   ]
  },
  {
   "cell_type": "markdown",
   "metadata": {},
   "source": [
    "## 과일 장수\n",
    "\n",
    "문제 설명\n",
    "과일 장수가 사과 상자를 포장하고 있습니다. 사과는 상태에 따라 1점부터 k점까지의 점수로 분류하며, k점이 최상품의 사과이고 1점이 최하품의 사과입니다. 사과 한 상자의 가격은 다음과 같이 결정됩니다.\n",
    "\n",
    "- 한 상자에 사과를 m개씩 담아 포장합니다.\n",
    "- 상자에 담긴 사과 중 가장 낮은 점수가 p (1 ≤ p ≤ k)점인 경우, 사과 한 상자의 가격은 p * m 입니다.\n",
    "\n",
    "과일 장수가 가능한 많은 사과를 팔았을 때, 얻을 수 있는 최대 이익을 계산하고자 합니다.(사과는 상자 단위로만 판매하며, 남는 사과는 버립니다)\n",
    "\n",
    "예를 들어, k = 3, m = 4, 사과 7개의 점수가 [1, 2, 3, 1, 2, 3, 1]이라면, 다음과 같이 [2, 3, 2, 3]으로 구성된 사과 상자 1개를 만들어 판매하여 최대 이익을 얻을 수 있습니다.\n",
    "\n",
    "- (최저 사과 점수) x (한 상자에 담긴 사과 개수) x (상자의 개수) = 2 x 4 x 1 = 8\n",
    "\n",
    "사과의 최대 점수 k, 한 상자에 들어가는 사과의 수 m, 사과들의 점수 score가 주어졌을 때, 과일 장수가 얻을 수 있는 최대 이익을 return하는 solution 함수를 완성해주세요.\n",
    "\n",
    "제한사항\n",
    "\n",
    "3 ≤ k ≤ 9\n",
    "\n",
    "3 ≤ m ≤ 10\n",
    "\n",
    "7 ≤ score의 길이 ≤ 1,000,000\n",
    "\n",
    "1 ≤ score[i] ≤ k\n",
    "\n",
    "이익이 발생하지 않는 경우에는 0을 return 해주세요.\n",
    "\n",
    "##### 입출력 예\n",
    "|k|\tm|\tscore|\tresult|\n",
    "|---|---|---|---|\n",
    "|3|\t4|\t[1, 2, 3, 1, 2, 3, 1]\t|8|\n",
    "|4|\t3|\t[4, 1, 2, 2, 4, 4, 4, 4, 1, 2, 4, 2]|33"
   ]
  },
  {
   "cell_type": "code",
   "execution_count": 79,
   "metadata": {},
   "outputs": [
    {
     "name": "stdout",
     "output_type": "stream",
     "text": [
      "[1]\n",
      "2 1\n",
      "[24]\n",
      "[1, 1]\n",
      "4 1\n",
      "[24, 12]\n",
      "[1, 1, 1]\n",
      "1 1\n",
      "[24, 12, 6]\n"
     ]
    }
   ],
   "source": [
    "score = [4, 1, 2, 2, 4, 4, 4, 4, 1, 2, 4, 2,1,1,1,1,1,1,1,1,1,4,1,1]\n",
    "m = 3\n",
    "k = 4\n",
    "score_dict = dict()\n",
    "for i in score:\n",
    "    if i not in score_dict.keys():\n",
    "        score_dict[i] = 1\n",
    "    else:\n",
    "        score_dict[i] +=1 \n",
    "score_list = list(score_dict.keys())\n",
    "score_num = list(score_dict.values())\n",
    "temp = []\n",
    "remainder_list=[]\n",
    "temp2 = []\n",
    "for j in range(len(score_list)):\n",
    "    box, remainder = divmod(score_num[j],m)\n",
    "    temp.append(score_list[j]*m*box)\n",
    "    remainder_list.append(remainder)\n",
    "    print(box,remainder)\n",
    "    print(temp)\n",
    "    for k in range(remainder_list[j]):\n",
    "        temp2.append(score)"
   ]
  },
  {
   "cell_type": "code",
   "execution_count": 32,
   "metadata": {},
   "outputs": [
    {
     "name": "stdout",
     "output_type": "stream",
     "text": [
      "[3, 3, 2, 2, 1, 1, 1]\n",
      "[3, 3, 2, 2]\n",
      "[1, 1, 1]\n",
      "8\n"
     ]
    }
   ],
   "source": [
    "score =[1, 2, 3, 1, 2, 3, 1]\n",
    "\n",
    "def solution(k,m,score):\n",
    "    score.sort(reverse=True)\n",
    "    money = []\n",
    "    print(score)\n",
    "    for i in range(0,len(score),m):\n",
    "        box = score[i:i+m]\n",
    "        if len(box) == m:\n",
    "            money.append(min(box)*m)\n",
    "        else:\n",
    "            money.append(0)\n",
    "        print(box)\n",
    "    answer = sum(money)\n",
    "    print(answer)\n",
    "\n",
    "solution(3,4,score)"
   ]
  },
  {
   "cell_type": "code",
   "execution_count": null,
   "metadata": {},
   "outputs": [],
   "source": []
  }
 ],
 "metadata": {
  "kernelspec": {
   "display_name": "Python 3",
   "language": "python",
   "name": "python3"
  },
  "language_info": {
   "codemirror_mode": {
    "name": "ipython",
    "version": 3
   },
   "file_extension": ".py",
   "mimetype": "text/x-python",
   "name": "python",
   "nbconvert_exporter": "python",
   "pygments_lexer": "ipython3",
   "version": "3.11.4"
  },
  "orig_nbformat": 4
 },
 "nbformat": 4,
 "nbformat_minor": 2
}
