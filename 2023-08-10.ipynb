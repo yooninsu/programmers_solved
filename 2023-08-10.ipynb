{
 "cells": [
  {
   "cell_type": "markdown",
   "metadata": {},
   "source": [
    "### 대충 만든 자판\n",
    "\n",
    "휴대폰의 자판은 컴퓨터 키보드 자판과는 다르게 하나의 키에 여러 개의 문자가 할당될 수 있습니다. 키 하나에 여러 문자가 할당된 경우, 동일한 키를 연속해서 빠르게 누르면 할당된 순서대로 문자가 바뀝니다.\n",
    "\n",
    "예를 들어, 1번 키에 \"A\", \"B\", \"C\" 순서대로 문자가 할당되어 있다면 1번 키를 한 번 누르면 \"A\", 두 번 누르면 \"B\", 세 번 누르면 \"C\"가 되는 식입니다.\n",
    "\n",
    "같은 규칙을 적용해 아무렇게나 만든 휴대폰 자판이 있습니다. 이 휴대폰 자판은 키의 개수가 1개부터 최대 100개까지 있을 수 있으며, 특정 키를 눌렀을 때 입력되는 문자들도 무작위로 배열되어 있습니다. 또, 같은 문자가 자판 전체에 여러 번 할당된 경우도 있고, 키 하나에 같은 문자가 여러 번 할당된 경우도 있습니다. 심지어 아예 할당되지 않은 경우도 있습니다. 따라서 몇몇 문자열은 작성할 수 없을 수도 있습니다.\n",
    "\n",
    "이 휴대폰 자판을 이용해 특정 문자열을 작성할 때, 키를 최소 몇 번 눌러야 그 문자열을 작성할 수 있는지 알아보고자 합니다.\n",
    "\n",
    "1번 키부터 차례대로 할당된 문자들이 순서대로 담긴 문자열배열 keymap과 입력하려는 문자열들이 담긴 문자열 배열 targets가 주어질 때, 각 문자열을 작성하기 위해 키를 최소 몇 번씩 눌러야 하는지 순서대로 배열에 담아 return 하는 solution 함수를 완성해 주세요.\n",
    "\n",
    "단, 목표 문자열을 작성할 수 없을 때는 -1을 저장합니다.\n",
    "\n",
    "제한사항\n",
    "- 1 ≤ keymap의 길이 ≤ 100\n",
    "    - 1 ≤ keymap의 원소의 길이 ≤ 100\n",
    "    -  keymap[i]는 i + 1번 키를 눌렀을 때 순서대로 바뀌는 문자를 의미합니다.\n",
    "        - 예를 들어 keymap[0] = \"ABACD\" 인 경우 1번 키를 한 번 누르면 A, 두 번 누르면 B, 세 번 누르면 A 가 됩니다.\n",
    "    - keymap의 원소의 길이는 서로 다를 수 있습니다.\n",
    "    - keymap의 원소는 알파벳 대문자로만 이루어져 있습니다.\n",
    "- 1 ≤ targets의 길이 ≤ 100\n",
    "    - 1 ≤ targets의 원소의 길이 ≤ 100\n",
    "    - targets의 원소는 알파벳 대문자로만 이루어져 있습니다.\n",
    "\n",
    "**입출력 예**\n",
    "    \n",
    "|keymap|\ttargets\t|result|\n",
    "|---|---|---|\n",
    "|[\"ABACD\", \"BCEFD\"]\t|[\"ABCD\",\"AABB\"]\t|[9, 4]|\n",
    "|[\"AA\"]\t|[\"B\"]\t|[-1]|\n",
    "|[\"AGZ\", \"BSSS\"]|\t[\"ASA\",\"BGZ\"]|\t[4, 6]|"
   ]
  },
  {
   "cell_type": "code",
   "execution_count": 109,
   "metadata": {},
   "outputs": [
    {
     "data": {
      "text/plain": [
       "[-1]"
      ]
     },
     "execution_count": 109,
     "metadata": {},
     "output_type": "execute_result"
    }
   ],
   "source": [
    "keymap =  [\"ABCE\"]\n",
    "\n",
    "targets = [\"ABDE\"]\n",
    "\n",
    "\n",
    "def solution(keymap,targets):\n",
    "    temp = [0] * len(targets)\n",
    "    my_dict = dict()    \n",
    "    for i in range(len(keymap)):\n",
    "        for k in range(len(keymap[i])):\n",
    "            if keymap[i][k] not in my_dict:\n",
    "                my_dict[keymap[i][k]] = keymap[i].index(keymap[i][k]) + 1 # 몇번째 key인지 값을 넣음\n",
    "            else:\n",
    "                if my_dict[keymap[i][k]] > keymap[i].index(keymap[i][k]) + 1:   # 더 크면 버리고 대체\n",
    "                    my_dict[keymap[i][k]] = keymap[i].index(keymap[i][k]) + 1\n",
    "    for i in range(len(targets)):\n",
    "        for j in range(len(targets[i])):\n",
    "            if targets[i][j] in my_dict:\n",
    "                temp[i] += my_dict[targets[i][j]]\n",
    "            else:\n",
    "                temp[i] = -1\n",
    "                break\n",
    "    return temp\n",
    "solution( [\"ABCE\"], [\"ABDE\"])\n"
   ]
  },
  {
   "cell_type": "code",
   "execution_count": 46,
   "metadata": {},
   "outputs": [
    {
     "data": {
      "text/plain": [
       "1"
      ]
     },
     "execution_count": 46,
     "metadata": {},
     "output_type": "execute_result"
    }
   ],
   "source": [
    "\n"
   ]
  },
  {
   "cell_type": "code",
   "execution_count": null,
   "metadata": {},
   "outputs": [],
   "source": []
  }
 ],
 "metadata": {
  "kernelspec": {
   "display_name": "Python 3",
   "language": "python",
   "name": "python3"
  },
  "language_info": {
   "codemirror_mode": {
    "name": "ipython",
    "version": 3
   },
   "file_extension": ".py",
   "mimetype": "text/x-python",
   "name": "python",
   "nbconvert_exporter": "python",
   "pygments_lexer": "ipython3",
   "version": "3.11.4"
  },
  "orig_nbformat": 4
 },
 "nbformat": 4,
 "nbformat_minor": 2
}
