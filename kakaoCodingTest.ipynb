{
 "cells": [
  {
   "cell_type": "markdown",
   "metadata": {},
   "source": [
    "#### [1차] 다트게임\n",
    "\n",
    "카카오톡 게임별의 하반기 신규 서비스로 다트 게임을 출시하기로 했다. 다트 게임은 다트판에 다트를 세 차례 던져 그 점수의 합계로 실력을 겨루는 게임으로, 모두가 간단히 즐길 수 있다.\n",
    "갓 입사한 무지는 코딩 실력을 인정받아 게임의 핵심 부분인 점수 계산 로직을 맡게 되었다. 다트 게임의 점수 계산 로직은 아래와 같다.\n",
    "\n",
    "다트 게임은 총 3번의 기회로 구성된다. \\\n",
    "각 기회마다 얻을 수 있는 점수는 0점에서 10점까지이다. \\\n",
    "점수와 함께 Single(S), Double(D), Triple(T) 영역이 존재하고 각 영역 당첨 시 점수에서 1제곱, 2제곱, 3제곱 (점수1 , 점수2 , 점수3 )으로 계산된다. \\\n",
    "옵션으로 스타상(`*`) , 아차상(`#`)이 존재하며 스타상(`*`) 당첨 시 해당 점수와 바로 전에 얻은 점수를 각 2배로 만든다. 아차상(`#`) 당첨 시 해당 점수는 마이너스된다. \\\n",
    "스타상(`*`)은 첫 번째 기회에서도 나올 수 있다. 이 경우 첫 번째 스타상(`*`)의 점수만 2배가 된다. (예제 4번 참고) \\\n",
    "스타상(`*`)의 효과는 다른 스타상(`*`)의 효과와 중첩될 수 있다. 이 경우 중첩된 스타상(`*`) 점수는 4배가 된다. (예제 4번 참고) \\\n",
    "스타상(`*)`의 효과는 아차상(`#`)의 효과와 중첩될 수 있다. 이 경우 중첩된 아차상(`#`)의 점수는 -2배가 된다. (예제 5번 참고) \\\n",
    "Single(S), Double(D), Triple(T)은 점수마다 하나씩 존재한다. \\\n",
    "스타상(`*`), 아차상(`#`)은 점수마다 둘 중 하나만 존재할 수 있으며, 존재하지 않을 수도 있다. \\\n",
    "0~10의 정수와 문자 S, D, T, *, #로 구성된 문자열이 입력될 시 총점수를 반환하는 함수를 작성하라."
   ]
  },
  {
   "cell_type": "markdown",
   "metadata": {},
   "source": [
    "| 예제 | dartResult | answer | 설명                                |\n",
    "|------|------------|--------|---------|\n",
    "| 1    | 1S2D*3T    | 37     | $1^1$ * 2 + $2^2$ * 2 + $3^3$                |\n",
    "| 2    | 1D2S#10S   | 9      | $1^2$ + $2^1$ * (-1) + $10^1$                |\n",
    "| 3    | 1D2S0T     | 3      | $1^2$ + $2^1$ + $0^3$                        |\n",
    "| 4    | 1S*2T*3S   | 23     | $1^1$ * 2 * 2 + $2^3$ * 2 + 31            |\n",
    "| 5    | 1D#2S*3S   | 5      | $1^2$ * (-1) * 2 + $2^1$ * 2 + $3^1$         |\n",
    "| 6    | 1T2D3D#    | -4     | $1^3$ + $2^2$ + $3^2$ * (-1)                 |\n",
    "| 7    | 1D2S3T*    | 59     | $1^2$ + $2^1$ * 2 + $3^3$ * 2                |\n"
   ]
  },
  {
   "cell_type": "code",
   "execution_count": 125,
   "metadata": {},
   "outputs": [
    {
     "name": "stdout",
     "output_type": "stream",
     "text": [
      "9\n"
     ]
    }
   ],
   "source": [
    "def solution(dartResult):\n",
    "    scores = []\n",
    "    num = \"\"  # 숫자를 문자열로 누적시킬 변수\n",
    "\n",
    "    for char in dartResult:\n",
    "        if char.isdigit():\n",
    "            num += char  # 숫자 문자를 누적\n",
    "        elif char in [\"S\", \"D\", \"T\"]:\n",
    "            score = int(num)  # 누적된 숫자 문자열을 정수로 변환\n",
    "            if char == \"S\":\n",
    "                scores.append(score**1)\n",
    "            elif char == \"D\":\n",
    "                scores.append(score**2)\n",
    "            elif char == \"T\":\n",
    "                scores.append(score**3)\n",
    "            num = \"\"  # 숫자 처리 후 누적 변수 초기화\n",
    "        elif char == \"*\":\n",
    "            if scores:\n",
    "                scores[-1] *= 2  # 마지막 점수를 2배로\n",
    "                if len(scores) > 1:  # 이전 점수가 있다면 그 점수도 2배로\n",
    "                    scores[-2] *= 2\n",
    "        elif char == \"#\":\n",
    "            if scores:\n",
    "                scores[-1] *= -1  # 마지막 점수에 음수 적용\n",
    "\n",
    "    return sum(scores)  # 최종 점수 합계 반환\n",
    "\n",
    "\n",
    "dartResult = \"1D2S#10S\"\n",
    "print(solution(dartResult))"
   ]
  },
  {
   "cell_type": "code",
   "execution_count": 126,
   "metadata": {},
   "outputs": [
    {
     "data": {
      "text/plain": [
       "9"
      ]
     },
     "execution_count": 126,
     "metadata": {},
     "output_type": "execute_result"
    }
   ],
   "source": [
    "dartResult = \"1D2S#10S\"\n",
    "solution(dartResult)"
   ]
  },
  {
   "cell_type": "code",
   "execution_count": 117,
   "metadata": {},
   "outputs": [],
   "source": [
    "list = [1,4,\"*\",27]"
   ]
  },
  {
   "cell_type": "code",
   "execution_count": 96,
   "metadata": {},
   "outputs": [
    {
     "data": {
      "text/plain": [
       "[4, 16, '****', 108]"
      ]
     },
     "execution_count": 96,
     "metadata": {},
     "output_type": "execute_result"
    }
   ],
   "source": [
    "\n",
    "star(list)"
   ]
  },
  {
   "cell_type": "code",
   "execution_count": null,
   "metadata": {},
   "outputs": [],
   "source": []
  }
 ],
 "metadata": {
  "kernelspec": {
   "display_name": "Python 3",
   "language": "python",
   "name": "python3"
  },
  "language_info": {
   "codemirror_mode": {
    "name": "ipython",
    "version": 3
   },
   "file_extension": ".py",
   "mimetype": "text/x-python",
   "name": "python",
   "nbconvert_exporter": "python",
   "pygments_lexer": "ipython3",
   "version": "3.9.13"
  }
 },
 "nbformat": 4,
 "nbformat_minor": 2
}
