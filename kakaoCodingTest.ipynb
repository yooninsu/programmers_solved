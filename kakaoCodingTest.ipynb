{
 "cells": [
  {
   "cell_type": "markdown",
   "metadata": {},
   "source": [
    "#### [1차] 다트게임\n",
    "\n",
    "카카오톡 게임별의 하반기 신규 서비스로 다트 게임을 출시하기로 했다. 다트 게임은 다트판에 다트를 세 차례 던져 그 점수의 합계로 실력을 겨루는 게임으로, 모두가 간단히 즐길 수 있다.\n",
    "갓 입사한 무지는 코딩 실력을 인정받아 게임의 핵심 부분인 점수 계산 로직을 맡게 되었다. 다트 게임의 점수 계산 로직은 아래와 같다.\n",
    "\n",
    "다트 게임은 총 3번의 기회로 구성된다. \\\n",
    "각 기회마다 얻을 수 있는 점수는 0점에서 10점까지이다. \\\n",
    "점수와 함께 Single(S), Double(D), Triple(T) 영역이 존재하고 각 영역 당첨 시 점수에서 1제곱, 2제곱, 3제곱 (점수1 , 점수2 , 점수3 )으로 계산된다. \\\n",
    "옵션으로 스타상(`*`) , 아차상(`#`)이 존재하며 스타상(`*`) 당첨 시 해당 점수와 바로 전에 얻은 점수를 각 2배로 만든다. 아차상(`#`) 당첨 시 해당 점수는 마이너스된다. \\\n",
    "스타상(`*`)은 첫 번째 기회에서도 나올 수 있다. 이 경우 첫 번째 스타상(`*`)의 점수만 2배가 된다. (예제 4번 참고) \\\n",
    "스타상(`*`)의 효과는 다른 스타상(`*`)의 효과와 중첩될 수 있다. 이 경우 중첩된 스타상(`*`) 점수는 4배가 된다. (예제 4번 참고) \\\n",
    "스타상(`*)`의 효과는 아차상(`#`)의 효과와 중첩될 수 있다. 이 경우 중첩된 아차상(`#`)의 점수는 -2배가 된다. (예제 5번 참고) \\\n",
    "Single(S), Double(D), Triple(T)은 점수마다 하나씩 존재한다. \\\n",
    "스타상(`*`), 아차상(`#`)은 점수마다 둘 중 하나만 존재할 수 있으며, 존재하지 않을 수도 있다. \\\n",
    "0~10의 정수와 문자 S, D, T, *, #로 구성된 문자열이 입력될 시 총점수를 반환하는 함수를 작성하라."
   ]
  },
  {
   "cell_type": "markdown",
   "metadata": {},
   "source": [
    "| 예제 | dartResult | answer | 설명                                |\n",
    "|------|------------|--------|---------|\n",
    "| 1    | 1S2D*3T    | 37     | $1^1$ * 2 + $2^2$ * 2 + $3^3$                |\n",
    "| 2    | 1D2S#10S   | 9      | $1^2$ + $2^1$ * (-1) + $10^1$                |\n",
    "| 3    | 1D2S0T     | 3      | $1^2$ + $2^1$ + $0^3$                        |\n",
    "| 4    | 1S*2T*3S   | 23     | $1^1$ * 2 * 2 + $2^3$ * 2 + 31            |\n",
    "| 5    | 1D#2S*3S   | 5      | $1^2$ * (-1) * 2 + $2^1$ * 2 + $3^1$         |\n",
    "| 6    | 1T2D3D#    | -4     | $1^3$ + $2^2$ + $3^2$ * (-1)                 |\n",
    "| 7    | 1D2S3T*    | 59     | $1^2$ + $2^1$ * 2 + $3^3$ * 2                |\n"
   ]
  },
  {
   "cell_type": "code",
   "execution_count": 125,
   "metadata": {},
   "outputs": [
    {
     "name": "stdout",
     "output_type": "stream",
     "text": [
      "9\n"
     ]
    }
   ],
   "source": [
    "def solution(dartResult):\n",
    "    scores = []\n",
    "    num = \"\"  # 숫자를 문자열로 누적시킬 변수\n",
    "\n",
    "    for char in dartResult:\n",
    "        if char.isdigit():\n",
    "            num += char  # 숫자 문자를 누적\n",
    "        elif char in [\"S\", \"D\", \"T\"]:\n",
    "            score = int(num)  # 누적된 숫자 문자열을 정수로 변환\n",
    "            if char == \"S\":\n",
    "                scores.append(score**1)\n",
    "            elif char == \"D\":\n",
    "                scores.append(score**2)\n",
    "            elif char == \"T\":\n",
    "                scores.append(score**3)\n",
    "            num = \"\"  # 숫자 처리 후 누적 변수 초기화\n",
    "        elif char == \"*\":\n",
    "            if scores:\n",
    "                scores[-1] *= 2  # 마지막 점수를 2배로\n",
    "                if len(scores) > 1:  # 이전 점수가 있다면 그 점수도 2배로\n",
    "                    scores[-2] *= 2\n",
    "        elif char == \"#\":\n",
    "            if scores:\n",
    "                scores[-1] *= -1  # 마지막 점수에 음수 적용\n",
    "\n",
    "    return sum(scores)  # 최종 점수 합계 반환\n",
    "\n",
    "\n",
    "dartResult = \"1D2S#10S\"\n",
    "print(solution(dartResult))"
   ]
  },
  {
   "cell_type": "code",
   "execution_count": 126,
   "metadata": {},
   "outputs": [
    {
     "data": {
      "text/plain": [
       "9"
      ]
     },
     "execution_count": 126,
     "metadata": {},
     "output_type": "execute_result"
    }
   ],
   "source": [
    "dartResult = \"1D2S#10S\"\n",
    "solution(dartResult)"
   ]
  },
  {
   "cell_type": "markdown",
   "metadata": {},
   "source": [
    "#### 성격유형 검사하기\n",
    "\n",
    "나만의 카카오 성격 유형 검사지를 만들려고 합니다. \\\n",
    "성격 유형 검사는 다음과 같은 4개 지표로 성격 유형을 구분합니다. 성격은 각 지표에서 두 유형 중 하나로 결정됩니다. \\\n",
    "4개의 지표가 있으므로 성격 유형은 총 16(=2 x 2 x 2 x 2)가지가 나올 수 있습니다. \\\n",
    "예를 들어, \"RFMN\"이나 \"TCMA\"와 같은 성격 유형이 있습니다.\n",
    "\n",
    "검사지에는 총 n개의 질문이 있고, 각 질문에는 아래와 같은 7개의 선택지가 있습니다.\n",
    "\n",
    "- 매우 비동의\n",
    "- 비동의\n",
    "- 약간 비동의\n",
    "- 모르겠음\n",
    "- 약간 동의\n",
    "- 동의\n",
    "- 매우 동의\n",
    "\n",
    "각 질문은 1가지 지표로 성격 유형 점수를 판단합니다.\n",
    "\n",
    "- 매우 동의나 매우 비동의 선택지를 선택하면 3점을 얻습니다.\n",
    "- 동의나 비동의 선택지를 선택하면 2점을 얻습니다.\n",
    "- 약간 동의나 약간 비동의 선택지를 선택하면 1점을 얻습니다.\n",
    "- 모르겠음 선택지를 선택하면 점수를 얻지 않습니다.\n",
    "\n",
    "검사 결과는 모든 질문의 성격 유형 점수를 더하여 각 지표에서 더 높은 점수를 받은 성격 유형이 검사자의 성격 유형이라고 판단합니다.  \\\n",
    "단, 하나의 지표에서 각 성격 유형 점수가 같으면, 두 성격 유형 중 사전 순으로 빠른 성격 유형을 검사자의 성격 유형이라고 판단합니다.\n",
    "\n",
    "질문마다 판단하는 지표를 담은 1차원 문자열 배열 survey와 검사자가 각 질문마다 선택한 선택지를 담은 1차원 정수 배열 choices가 매개변수로 주어집니다.  \\\n",
    "이때, 검사자의 성격 유형 검사 결과를 지표 번호 순서대로 return 하도록 solution 함수를 완성해주세요.\n",
    "\n",
    "\n",
    "\n"
   ]
  },
  {
   "cell_type": "code",
   "execution_count": 52,
   "metadata": {},
   "outputs": [],
   "source": [
    "from itertools import product\n",
    "def solution(survey,choices):\n",
    "    answer =\"\"\n",
    "    mbti_score ={\n",
    "        \"R\" : 0, # 1번 지표 라이언형\n",
    "        \"T\" : 0, # 1번 지표 튜브형\n",
    "        \"C\" : 0, # 2번 지표 콘형\n",
    "        \"F\" : 0, # 2번 지표 프로도형\n",
    "        \"J\" : 0, # 3번 지표 제이지형\n",
    "        \"M\" : 0, # 3번 지표 무지형\n",
    "        \"A\" : 0, # 4번 지표 어피치형\n",
    "        \"N\" : 0, # 4번 지표 네오형\n",
    "    }\n",
    "    scale = {\n",
    "    1 : 3, # 매우 비동의\n",
    "    2 : 2, # 비동의\n",
    "    3 : 1, # 약간 비동의\n",
    "    4 : 0, # 모르겠음\n",
    "    5 : 1, # 약간 동의\n",
    "    6 : 2, # 동의\n",
    "    7 : 3 # 매우 동의\n",
    "    }\n",
    "    for (i,j) in zip(survey,choices):\n",
    "        if j <=3:\n",
    "            mbti_score[i[0]] += scale[j]\n",
    "        else:\n",
    "            mbti_score[i[1]] += scale[j]\n",
    "    mbti_keys = list(mbti_score.keys())\n",
    "    for (left,right) in zip(mbti_keys[::2],mbti_keys[1::2]):\n",
    "        if mbti_score[left] >= mbti_score[right]:\n",
    "            answer += left\n",
    "        else:\n",
    "            answer += right\n",
    "    return answer"
   ]
  },
  {
   "cell_type": "code",
   "execution_count": 53,
   "metadata": {},
   "outputs": [],
   "source": [
    "survey = [\"AN\", \"CF\", \"MJ\", \"RT\", \"NA\"]\n",
    "choices = [5, 3, 2, 7, 5]"
   ]
  },
  {
   "cell_type": "code",
   "execution_count": 54,
   "metadata": {},
   "outputs": [
    {
     "data": {
      "text/plain": [
       "'TCMA'"
      ]
     },
     "execution_count": 54,
     "metadata": {},
     "output_type": "execute_result"
    }
   ],
   "source": [
    "solution(survey,choices)"
   ]
  },
  {
   "cell_type": "markdown",
   "metadata": {},
   "source": [
    "#### 하노이 타워 (재귀)\n",
    "하노이 탑(Tower of Hanoi)은 퍼즐의 일종입니다. 세 개의 기둥과 이 기동에 꽂을 수 있는 크기가 다양한 원판들이 있고, 퍼즐을 시작하기 전에는 한 기둥에 원판들이 작은 것이 위에 있도록 순서대로 쌓여 있습니다. \\ 게임의 목적은 다음 두 가지 조건을 만족시키면서, 한 기둥에 꽂힌 원판들을 그 순서 그대로 다른 기둥으로 옮겨서 다시 쌓는 것입니다.\n",
    "\n",
    "1. 한 번에 하나의 원판만 옮길 수 있습니다.\n",
    "2. 큰 원판이 작은 원판 위에 있어서는 안됩니다.\n",
    "\n",
    "하노이 탑의 세 개의 기둥을 왼쪽 부터 1번, 2번, 3번이라고 하겠습니다. \\\n",
    " 1번에는 n개의 원판이 있고 이 n개의 원판을 3번 원판으로 최소 횟수로 옮기려고 합니다.\n",
    "\n",
    "1번 기둥에 있는 원판의 개수 n이 매개변수로 주어질 때, n개의 원판을 3번 원판으로 최소로 옮기는 방법을 return하는 solution를 완성해주세요."
   ]
  },
  {
   "cell_type": "code",
   "execution_count": 53,
   "metadata": {},
   "outputs": [],
   "source": [
    "def solution(n):\n",
    "    def move(n, start, end, via):\n",
    "        if n == 1:\n",
    "            answer.append([start, end])\n",
    "        else:\n",
    "            move(n - 1, start, via, end)\n",
    "            answer.append([start, end])\n",
    "            move(n - 1, via, end, start)\n",
    "\n",
    "    answer = []\n",
    "    move(n, 1, 3, 2)\n",
    "    return answer"
   ]
  },
  {
   "cell_type": "markdown",
   "metadata": {},
   "source": [
    "#### 주차요금 계산\n",
    "\n",
    "주차장의 요금표와 차량이 들어오고(입차) 나간(출차) 기록이 주어졌을 때, 차량별로 주차 요금을 계산하려고 합니다. 아래는 하나의 예시를 나타냅니다.\n",
    "\n",
    "- 요금표\n",
    "\n",
    "| 기본 시간(분) | 기본 요금(원) | 단위 시간(분) | 단위 요금(원) |\n",
    "|-----|-------|-------|------|\n",
    "| 180 | 5000 | 10 | 600 |  \n",
    "\n",
    "- 입 출차 기록\n",
    "\n",
    "|시각(시:분)|\t차량 번호\t|내역|\n",
    "|---|---|---|\n",
    "05:34|\t5961|\t입차\n",
    "06:00|\t0000|\t입차\n",
    "06:34|\t0000|\t출차\n",
    "07:59|\t5961|\t출차\n",
    "07:59|\t0148|\t입차\n",
    "18:59|\t0000|\t입차\n",
    "19:09|\t0148|\t출차\n",
    "22:59|\t5961|\t입차\n",
    "23:00|\t5961|\t출차\n",
    "\n",
    "- 자동차별 주차 요금\n",
    "\n",
    "|차량 번호|\t누적 주차 시간(분)|\t주차 요금(원)|\n",
    "|---|---|---|\n",
    "0000|\t34 + 300 = 334|\t5000 + ⌈(334 - 180) / 10⌉ x 600 = 14600\n",
    "0148|\t670|\t5000 +⌈(670 - 180) / 10⌉x 600 = 34400\n",
    "5961|\t145 + 1 = 146|\t5000\n",
    "\n",
    "- 어떤 차량이 입차된 후에 출차된 내역이 없다면, 23:59에 출차된 것으로 간주합니다.\n",
    "    - 0000번 차량은 18:59에 입차된 이후, 출차된 내역이 없습니다. 따라서, 23:59에 출차된 것으로 간주합니다.\n",
    "-   00:00부터 23:59까지의 입/출차 내역을 바탕으로 차량별 누적 주차 시간을 계산하여 요금을 일괄로 정산합니다.\n",
    "- 누적 주차 시간이 기본 시간이하라면, 기본 요금을 청구합니다.\n",
    "- 누적 주차 시간이 기본 시간을 초과하면, 기본 요금에 더해서, 초과한 시간에 대해서 단위 시간 마다 단위 요금을 청구합니다.\n",
    "    - 초과한 시간이 단위 시간으로 나누어 떨어지지 않으면, 올림합니다.\n",
    "    - ⌈a⌉ : a보다 작지 않은 최소의 정수를 의미합니다. 즉, 올림을 의미합니다.\n",
    "    \n",
    "주차 요금을 나타내는 정수 배열 fees, 자동차의 입/출차 내역을 나타내는 문자열 배열 records가 매개변수로 주어집니다. 차량 번호가 작은 자동차부터 청구할 주차 요금을 차례대로 정수 배열에 담아서 return 하도록 solution 함수를 완성해주세요.\n"
   ]
  },
  {
   "cell_type": "markdown",
   "metadata": {},
   "source": [
    "#### 문제풀이\n",
    "\n",
    "딕셔너리의 벨류는 리스트 형태\n",
    "차량 번호를 딕셔너리 key로 받아  str이 in으로 끝나면 입차시간을 value로 받는다. \\\n",
    "같은 key의 out을 만나면 해당 시간에서 입차시간을 뺀 뒤 value로 받는다. out을 한번 만나면 해당 리스트는 완성 다음 리스트로 이어진다. \\\n",
    "만약 in만 있다면 해당 리스트는 23;59를 마지막에 추가한다.\n"
   ]
  },
  {
   "cell_type": "code",
   "execution_count": 140,
   "metadata": {},
   "outputs": [],
   "source": [
    "from collections import defaultdict\n",
    "from datetime import datetime, timedelta\n",
    "import math \n",
    "def solution(fees,records):\n",
    "    time_format = \"%H:%M\"\n",
    "    parking_time = defaultdict(int)\n",
    "    in_time = {}  # 입차 시간 저장\n",
    "    answer = [] # 주차요금 \n",
    "    for record in records:\n",
    "        parts = record.split()\n",
    "        value, key, condition = parts\n",
    "        time =datetime.strptime(value,time_format)\n",
    "        # 입차일 경우\n",
    "        if condition == \"IN\":\n",
    "            # 현재 입차 시간 저장\n",
    "            in_time[key] = time\n",
    "        elif condition == \"OUT\":\n",
    "            parking_duration = (time- in_time[key]).total_seconds() / 60 #현재 키의 입차 시간을 찾아 출차시간에서 차감하여 분으로 표시\n",
    "            parking_time[key] += parking_duration #해당 키에 주차 시간 더하기\n",
    "            del in_time[key] # 출차한 차량은 입차 딕셔너리에서 삭제한다.\n",
    "\n",
    "# 출하되지 않은 차량 \n",
    "    last_check_time = datetime.strptime(\"23:59\",time_format)\n",
    "    for key,time in in_time.items():\n",
    "        parking_duration = (last_check_time-in_time[key]).total_seconds() / 60\n",
    "        parking_time[key] += parking_duration\n",
    "        # 주차 요금 계산\n",
    "    for car_id in sorted(parking_time.keys()): # 차량 번호가 작은 것부터 계산\n",
    "        total_time = parking_time[car_id]\n",
    "        if total_time <= fees[0]:\n",
    "            answer.append(fees[1])\n",
    "        elif total_time > fees[0]:\n",
    "            answer.append(fees[1] + math.ceil(((total_time-fees[0]) / fees[2]))*fees[3]) #단위 시간으로 나누어 떨어지지 않으면 올림\n",
    "    return answer\n"
   ]
  },
  {
   "cell_type": "code",
   "execution_count": 141,
   "metadata": {},
   "outputs": [],
   "source": [
    "fees = [180, 5000, 10, 600]\n",
    "records = [\n",
    "    \"05:34 5961 IN\",\n",
    "    \"06:00 0000 IN\",\n",
    "    \"06:34 0000 OUT\",\n",
    "    \"07:59 5961 OUT\",\n",
    "    \"07:59 0148 IN\",\n",
    "    \"18:59 0000 IN\",\n",
    "    \"19:09 0148 OUT\",\n",
    "    \"22:59 5961 IN\",\n",
    "    \"23:00 5961 OUT\",\n",
    "]"
   ]
  },
  {
   "cell_type": "code",
   "execution_count": 142,
   "metadata": {},
   "outputs": [
    {
     "data": {
      "text/plain": [
       "([14600, 34400, 5000],\n",
       " defaultdict(int, {'0000': 334.0, '5961': 146.0, '0148': 670.0}))"
      ]
     },
     "execution_count": 142,
     "metadata": {},
     "output_type": "execute_result"
    }
   ],
   "source": [
    "solution(fees,records)"
   ]
  },
  {
   "cell_type": "code",
   "execution_count": 144,
   "metadata": {},
   "outputs": [
    {
     "data": {
      "text/plain": [
       "'2'"
      ]
     },
     "execution_count": 144,
     "metadata": {},
     "output_type": "execute_result"
    }
   ],
   "source": [
    "age = str(23)\n",
    "age[0]"
   ]
  },
  {
   "cell_type": "code",
   "execution_count": null,
   "metadata": {},
   "outputs": [],
   "source": []
  }
 ],
 "metadata": {
  "kernelspec": {
   "display_name": "Python 3",
   "language": "python",
   "name": "python3"
  },
  "language_info": {
   "codemirror_mode": {
    "name": "ipython",
    "version": 3
   },
   "file_extension": ".py",
   "mimetype": "text/x-python",
   "name": "python",
   "nbconvert_exporter": "python",
   "pygments_lexer": "ipython3",
   "version": "3.9.13"
  }
 },
 "nbformat": 4,
 "nbformat_minor": 2
}
