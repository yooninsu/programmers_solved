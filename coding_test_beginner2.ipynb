{
 "cells": [
  {
   "cell_type": "markdown",
   "metadata": {},
   "source": [
    "#### 최대공약수와 최소공배수\n",
    "- 문제 설명 \\\n",
    "두 수를 입력받아 두 수의 최대공약수와 최소공배수를 반환하는 함수, solution을 완성해 보세요. 배열의 맨 앞에 최대공약수, 그다음 최소공배수를 넣어 반환하면 됩니다. 예를 들어 두 수 3, 12의 최대공약수는 3, 최소공배수는 12이므로 solution(3, 12)는 [3, 12]를 반환해야 합니다."
   ]
  },
  {
   "cell_type": "markdown",
   "metadata": {},
   "source": [
    "#### 문제 풀이\n",
    "\n",
    "최소공배수는 최대 공약수 곱하기 ㄱ"
   ]
  },
  {
   "cell_type": "code",
   "execution_count": 42,
   "metadata": {},
   "outputs": [],
   "source": [
    "def gcd(n,m):\n",
    "    while m != 0:\n",
    "        n, m = m, n % m\n",
    "    return n\n",
    "def solution(n,m):\n",
    "    gcd_value = gcd(n,m)\n",
    "    lcm_value = int((n*m) /gcd_value)\n",
    "    answer = [gcd_value,lcm_value]\n",
    "    return answer\n"
   ]
  },
  {
   "cell_type": "code",
   "execution_count": 43,
   "metadata": {},
   "outputs": [
    {
     "data": {
      "text/plain": [
       "[3, 12]"
      ]
     },
     "execution_count": 43,
     "metadata": {},
     "output_type": "execute_result"
    }
   ],
   "source": [
    "solution(3,12)"
   ]
  },
  {
   "cell_type": "markdown",
   "metadata": {},
   "source": [
    "#### 옹알이(1) [구현, 탐색]"
   ]
  },
  {
   "cell_type": "markdown",
   "metadata": {},
   "source": [
    "머쓱이는 태어난 지 6개월 된 조카를 돌보고 있습니다.  \\\n",
    "조카는 아직 \"aya\", \"ye\", \"woo\", \"ma\" 네 가지 발음을 최대 한 번씩 사용해 조합한(이어 붙인) 발음밖에 하지 못합니다. \\\n",
    " 문자열 배열 babbling이 매개변수로 주어질 때, 머쓱이의 조카가 발음할 수 있는 단어의 개수를 return하도록 solution 함수를 완성해주세요.  "
   ]
  },
  {
   "cell_type": "code",
   "execution_count": 16,
   "metadata": {},
   "outputs": [],
   "source": [
    "from itertools import product\n",
    "\n",
    "\n",
    "def solution(babbling):\n",
    "    answer = 0\n",
    "    can_speak = [\"aya\", \"ye\", \"woo\", \"ma\"]\n",
    "    # Generate compound words of lengths 2, 3, and 4\n",
    "    compound_2 = list(map(lambda x: \"\".join(x), product(can_speak, repeat=2)))\n",
    "    compound_3 = list(map(lambda x: \"\".join(x), product(can_speak, repeat=3)))\n",
    "    compound_4 = list(map(lambda x: ''.join(x), product(can_speak, repeat=4)))\n",
    "\n",
    "\n",
    "    # Combine all possible valid words\n",
    "    all_words = can_speak + compound_2 + compound_3 + compound_4\n",
    "\n",
    "    # Count each valid word in babbling\n",
    "    for word in babbling:\n",
    "        if word in all_word s:\n",
    "            answer += 1\n",
    "\n",
    "    return answer"
   ]
  },
  {
   "cell_type": "code",
   "execution_count": 17,
   "metadata": {},
   "outputs": [
    {
     "data": {
      "text/plain": [
       "1"
      ]
     },
     "execution_count": 17,
     "metadata": {},
     "output_type": "execute_result"
    }
   ],
   "source": [
    "solution([\"aya\", \"yee\", \"u\", \"maa\", \"wyeoo\"])"
   ]
  },
  {
   "cell_type": "markdown",
   "metadata": {},
   "source": [
    "#### 피자 나눠먹기(2)\n",
    "\n",
    "문제 설명\n",
    "머쓱이네 피자가게는 피자를 여섯 조각으로 잘라 줍니다. \\\n",
    " 피자를 나눠먹을 사람의 수 n이 매개변수로 주어질 때, \\\n",
    " n명이 주문한 피자를 남기지 않고 모두 같은 수의 피자 조각을 먹어야 한다면 \\\n",
    "최소 몇 판을 시켜야 하는지를 return 하도록 solution 함수를 완성해보세요."
   ]
  },
  {
   "cell_type": "code",
   "execution_count": 24,
   "metadata": {},
   "outputs": [],
   "source": [
    "\n",
    "def gcd(n,m):\n",
    "    while m !=0:\n",
    "        n, m = m, n % m\n",
    "    return n\n",
    "def solution(n):\n",
    "    pizza= 6\n",
    "    gcd_value =gcd(n,pizza)\n",
    "    answer = int(((n*pizza)/gcd_value)/6)\n",
    "    return answer"
   ]
  },
  {
   "cell_type": "markdown",
   "metadata": {},
   "source": [
    "#### 옷가게 할인 받기\n",
    "문제 설명\n",
    "머쓱이네 옷가게는 10만 원 이상 사면 5%, 30만 원 이상 사면 10%, 50만 원 이상 사면 20%를 할인해줍니다. \\\n",
    "구매한 옷의 가격 price가 주어질 때, 지불해야 할 금액을 return 하도록 solution 함수를 완성해보세요."
   ]
  },
  {
   "cell_type": "markdown",
   "metadata": {},
   "source": [
    "제한사항\n",
    "- 10 ≤ price ≤ 1,000,000\n",
    "- price는 10원 단위로(1의 자리가 0) 주어집니다.\n",
    "- 소수점 이하를 버린 정수를 return합니다.\n"
   ]
  },
  {
   "cell_type": "code",
   "execution_count": 28,
   "metadata": {},
   "outputs": [],
   "source": [
    "def solution(price):\n",
    "    answer = 0\n",
    "    if price < 100000:\n",
    "        answer = price\n",
    "    elif price <300000:\n",
    "        answer = int(price*0.95)\n",
    "    elif price < 500000:\n",
    "        answer = int(price*0.9)\n",
    "    else:\n",
    "        answer =int(price *0.8)\n",
    "    return answer"
   ]
  },
  {
   "cell_type": "code",
   "execution_count": 29,
   "metadata": {},
   "outputs": [
    {
     "data": {
      "text/plain": [
       "95009"
      ]
     },
     "execution_count": 29,
     "metadata": {},
     "output_type": "execute_result"
    }
   ],
   "source": [
    "solution(100010)"
   ]
  },
  {
   "cell_type": "markdown",
   "metadata": {},
   "source": [
    "#### 저주의 숫자 3"
   ]
  },
  {
   "cell_type": "markdown",
   "metadata": {},
   "source": [
    "3x 마을 사람들은 3을 저주의 숫자라고 생각하기 때문에 3의 배수와 숫자 3을 사용하지 않습니다.  \\\n",
    "3x 마을 사람들의 숫자는 다음과 같습니다. \\\n",
    "정수 `n`이 매개변수로 주어질 때, `n`을 3x 마을에서 사용하는 숫자로 바꿔 return하도록 solution 함수를 완성해주세요."
   ]
  },
  {
   "cell_type": "code",
   "execution_count": 86,
   "metadata": {},
   "outputs": [],
   "source": [
    "def three(i):\n",
    "    # i가 3의 배수이거나 숫자 내에 '3'이 포함되어 있는지 확인\n",
    "    return i % 3 == 0 or \"3\" in str(i)\n",
    "\n",
    "\n",
    "def solution(n):\n",
    "    answer = 0\n",
    "    for i in range(n):\n",
    "       answer +=1\n",
    "       while three(answer):\n",
    "         answer +=1\n",
    "    return answer"
   ]
  },
  {
   "cell_type": "code",
   "execution_count": 88,
   "metadata": {},
   "outputs": [
    {
     "data": {
      "text/plain": [
       "16"
      ]
     },
     "execution_count": 88,
     "metadata": {},
     "output_type": "execute_result"
    }
   ],
   "source": [
    "solution(10)"
   ]
  },
  {
   "cell_type": "code",
   "execution_count": null,
   "metadata": {},
   "outputs": [],
   "source": []
  },
  {
   "cell_type": "code",
   "execution_count": null,
   "metadata": {},
   "outputs": [],
   "source": []
  }
 ],
 "metadata": {
  "kernelspec": {
   "display_name": "Python 3",
   "language": "python",
   "name": "python3"
  },
  "language_info": {
   "codemirror_mode": {
    "name": "ipython",
    "version": 3
   },
   "file_extension": ".py",
   "mimetype": "text/x-python",
   "name": "python",
   "nbconvert_exporter": "python",
   "pygments_lexer": "ipython3",
   "version": "3.9.13"
  }
 },
 "nbformat": 4,
 "nbformat_minor": 2
}
