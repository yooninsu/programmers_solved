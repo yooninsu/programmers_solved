{
 "cells": [
  {
   "cell_type": "markdown",
   "metadata": {},
   "source": [
    "#### 약수의 개수와 덧셈\n"
   ]
  },
  {
   "cell_type": "markdown",
   "metadata": {},
   "source": [
    "두 정수 left와 right가 매개변수로 주어집니다.  \\\n",
    "`left`부터 `right`까지의 모든 수들 중에서, 약수의 개수가 짝수인 수는 더하고, 약수의 개수가 홀수인 수는 뺀 수를 return 하도록 solution 함수를 완성해주세요."
   ]
  },
  {
   "cell_type": "markdown",
   "metadata": {},
   "source": [
    "#### 문제풀이\n",
    "\n",
    "- 약수의 개수를 구하기 위한 함수 getMyDivisor를 만든다. \n",
    "- 약수를 구하면 항상 그 짝이 되는 수가 존재하기 때문에 for 문을 이용하여 자연수 N의 제곱근까지만 확인해도 자동으로 구할 수 있다.\n",
    "- edge case인 숫자의 제곱근이 정수인 경우를 예외처리 해준다.(제곱근이 정수인 경우 해당 약수의 짝은 자기 자신이기 때문)\n"
   ]
  },
  {
   "cell_type": "code",
   "execution_count": 149,
   "metadata": {},
   "outputs": [],
   "source": [
    "def getMyDivisor(n):\n",
    "    divisorList = []\n",
    "    for i in range(1,int(n**(1/2))+1):\n",
    "        if n % i == 0:\n",
    "            divisorList.append(i)\n",
    "            if i**2 != n:\n",
    "                divisorList.append(n // i)\n",
    "    return divisorList\n",
    "def solution(left, right):\n",
    "    answer = 0\n",
    "    for i in range(left,right+1):\n",
    "        divisorList = getMyDivisor(i)\n",
    "        if len(divisorList) % 2 == 0:\n",
    "            answer += i\n",
    "        else:\n",
    "            answer -= i\n",
    "    return answer"
   ]
  },
  {
   "cell_type": "code",
   "execution_count": 150,
   "metadata": {},
   "outputs": [
    {
     "data": {
      "text/plain": [
       "43"
      ]
     },
     "execution_count": 150,
     "metadata": {},
     "output_type": "execute_result"
    }
   ],
   "source": [
    "left = 13\n",
    "right= 17\n",
    "solution(13,17)"
   ]
  },
  {
   "cell_type": "markdown",
   "metadata": {},
   "source": [
    "#### 안전지대\n",
    "\n",
    "다음 그림과 같이 지뢰가 있는 지역과 지뢰에 인접한 위, 아래, 좌, 우 대각선 칸을 모두 위험지역으로 분류합니다. \\ \n",
    "지뢰는 2차원 배열 `board`에 1로 표시되어 있고 `board`에는 지뢰가 매설 된 지역 1과, 지뢰가 없는 지역 0만 존재합니다. \\\n",
    "지뢰가 매설된 지역의 지도 `board`가 매개변수로 주어질 때, 안전한 지역의 칸 수를 return하도록 solution 함수를 완성해주세요."
   ]
  },
  {
   "cell_type": "markdown",
   "metadata": {},
   "source": [
    "제한사항\n",
    "- board는 n * n 배열입니다.\n",
    "- 1 ≤ n ≤ 100\n",
    "- 지뢰는 1로 표시되어 있습니다.\n",
    "- board에는 지뢰가 있는 지역 1과 지뢰가 없는 지역 0만 존재합니다.\n"
   ]
  },
  {
   "cell_type": "markdown",
   "metadata": {},
   "source": [
    "#### 문제풀이\n",
    "각 칸을 맨 위칸부터 인덱스라고 표현한다면, 폭탄이 있는 장소에서 위험한 장소로 변하는 구간을 설정할 수 있다.\n",
    ">> ex)  \\\n",
    ">> 현재 폭탄이 (3,3)이라고 한다면, 시계방향으로 12시방향부터 (2,3) 이 danger로 바뀌어야한다. \\\n",
    ">> 즉, 8개의 좌표는 각각 dirs = ((-1,0), (-1,1),(0,1),(1,1),(0,1),(-1,1),(-1,0),(-1,-1))\n"
   ]
  },
  {
   "cell_type": "code",
   "execution_count": 151,
   "metadata": {},
   "outputs": [],
   "source": [
    "board  = [[0, 0, 1], [0, 0, 0], [0, 0, 0]]"
   ]
  },
  {
   "cell_type": "code",
   "execution_count": 152,
   "metadata": {},
   "outputs": [],
   "source": [
    "def danger(board):\n",
    "    n = len(board)\n",
    "    dirs = ( ( -1 , 0 ) , ( -1 , 1 ) , ( 0 , 1 ) , ( 1 , 1 ) , ( 1 , 0 ) , ( 1 , -1 ) , ( 0 , -1 ) , ( -1 , -1 ) )\n",
    "    to_change = []\n",
    "    for r_idx in range(n):\n",
    "        for c_idx in range(n):\n",
    "            if board[r_idx][c_idx] == 1:\n",
    "                for i , j in dirs:\n",
    "                    new_r_idx, new_c_idx = r_idx+i, c_idx+j\n",
    "                    if 0 <= new_r_idx <n and 0 <= new_c_idx < n and board[new_r_idx][new_c_idx] == 0:\n",
    "                        to_change.append((new_r_idx,new_c_idx))\n",
    "    for r, c in to_change:\n",
    "        board[r][c] = 1\n",
    "    return board\n",
    "def solution(board):\n",
    "    board = danger(board)\n",
    "    return sum(item == 0 for row in board for item in row)"
   ]
  },
  {
   "cell_type": "code",
   "execution_count": 153,
   "metadata": {},
   "outputs": [
    {
     "data": {
      "text/plain": [
       "5"
      ]
     },
     "execution_count": 153,
     "metadata": {},
     "output_type": "execute_result"
    }
   ],
   "source": [
    "solution(board)"
   ]
  },
  {
   "cell_type": "markdown",
   "metadata": {},
   "source": [
    "#### 분수의 덧셈\n",
    "\n",
    "첫 번째 분수의 분자와 분모를 뜻하는 `numer1`, `denom1`, 두 번째 분수의 분자와 분모를 뜻하는 `numer2`, `denom2`가 매개변수로 주어집니다. \\\n",
    "두 분수를 더한 값을 기약 분수로 나타냈을 때 분자와 분모를 순서대로 담은 배열을 return 하도록 solution 함수를 완성해보세요."
   ]
  },
  {
   "cell_type": "code",
   "execution_count": 2,
   "metadata": {},
   "outputs": [],
   "source": [
    "numer1 = 9\n",
    "denom1 = 2\n",
    "numer2 = 1\n",
    "denom2 = 3"
   ]
  },
  {
   "cell_type": "code",
   "execution_count": 8,
   "metadata": {},
   "outputs": [],
   "source": [
    "import math\n",
    "\n",
    "def solution(numer1, denom1, numer2, denom2):\n",
    "    answer = []\n",
    "    numer = numer1*denom2 + numer2*denom1\n",
    "    denom = denom1*denom2 \n",
    "    # Simplify the fraction\n",
    "    gcd = math.gcd(numer, denom)\n",
    "    answer.append(numer // gcd)\n",
    "    answer.append(denom // gcd)\n",
    "\n",
    "    return answer\n"
   ]
  },
  {
   "cell_type": "code",
   "execution_count": 9,
   "metadata": {},
   "outputs": [
    {
     "data": {
      "text/plain": [
       "[29, 6]"
      ]
     },
     "execution_count": 9,
     "metadata": {},
     "output_type": "execute_result"
    }
   ],
   "source": [
    "solution(numer1, denom1, numer2, denom2)"
   ]
  },
  {
   "cell_type": "markdown",
   "metadata": {},
   "source": [
    "#### 최빈값 구하기\n",
    "최빈값은 주어진 값 중에서 가장 자주 나오는 값을 의미합니다.  \\\n",
    "정수 배열 array가 매개변수로 주어질 때, 최빈값을 return 하도록 solution 함수를 완성해보세요. \\\n",
    "최빈값이 여러 개면 -1을 return 합니다.\n",
    "\n"
   ]
  },
  {
   "cell_type": "code",
   "execution_count": 16,
   "metadata": {},
   "outputs": [],
   "source": [
    "array = [1, 2, 3, 3, 2, 4]"
   ]
  },
  {
   "cell_type": "code",
   "execution_count": 25,
   "metadata": {},
   "outputs": [],
   "source": [
    "from collections import defaultdict\n",
    "\n",
    "def solution(array):\n",
    "    num_count = defaultdict(int)\n",
    "    for num in array:\n",
    "        num_count[num] +=1\n",
    "    keys = [key for key, value in num_count.items() if value == max(num_count.values())]\n",
    "    if len(keys) > 1:\n",
    "        return -1\n",
    "    else:\n",
    "        return keys[0]"
   ]
  },
  {
   "cell_type": "code",
   "execution_count": 28,
   "metadata": {},
   "outputs": [],
   "source": [
    "def solution2(array):\n",
    "    num_count = defaultdict(int)\n",
    "    for num in array:\n",
    "        num_count[num] += 1\n",
    "    return[key for key, value in num_count.items() if value == ]"
   ]
  },
  {
   "cell_type": "code",
   "execution_count": 29,
   "metadata": {},
   "outputs": [
    {
     "data": {
      "text/plain": [
       "dict_items([(1, 1), (2, 2), (3, 2), (4, 1)])"
      ]
     },
     "execution_count": 29,
     "metadata": {},
     "output_type": "execute_result"
    }
   ],
   "source": [
    "solution2(array)"
   ]
  },
  {
   "cell_type": "code",
   "execution_count": 30,
   "metadata": {},
   "outputs": [],
   "source": [
    "def solution(array):\n",
    "    while len(array) != 0:\n",
    "        for i, a in enumerate(set(array)): # set으로 처리하면 각 원소들을 한번씩 가져와서 각 값들을 빼버림 그렇다면 마지막에 남는 것이 최빈값\n",
    "            array.remove(a)\n",
    "        if i == 0:\n",
    "            return a\n",
    "    return -1"
   ]
  },
  {
   "cell_type": "markdown",
   "metadata": {},
   "source": [
    "####  짝수는 싫어요\n",
    "정수 n이 매개변수로 주어질 때, \\\n",
    "n 이하의 홀수가 오름차순으로 담긴 배열을 return하도록 solution 함수를 완성해주세요.\n",
    "\n"
   ]
  },
  {
   "cell_type": "code",
   "execution_count": 37,
   "metadata": {},
   "outputs": [],
   "source": [
    "def solution(n):\n",
    "    answer = []\n",
    "    for num in range(1,n+1):\n",
    "        if num % 2 != 0:\n",
    "            answer.append(num) \n",
    "    return answer"
   ]
  },
  {
   "cell_type": "markdown",
   "metadata": {},
   "source": [
    "#### List Comprehension 응용 풀이"
   ]
  },
  {
   "cell_type": "code",
   "execution_count": 41,
   "metadata": {},
   "outputs": [],
   "source": [
    "def solution(n):\n",
    "    return [i for i in range(1,n+1,2)]"
   ]
  },
  {
   "cell_type": "code",
   "execution_count": 42,
   "metadata": {},
   "outputs": [
    {
     "data": {
      "text/plain": [
       "[1, 3, 5, 7, 9]"
      ]
     },
     "execution_count": 42,
     "metadata": {},
     "output_type": "execute_result"
    }
   ],
   "source": [
    "solution(10)"
   ]
  },
  {
   "cell_type": "code",
   "execution_count": null,
   "metadata": {},
   "outputs": [],
   "source": []
  }
 ],
 "metadata": {
  "kernelspec": {
   "display_name": "Python 3",
   "language": "python",
   "name": "python3"
  },
  "language_info": {
   "codemirror_mode": {
    "name": "ipython",
    "version": 3
   },
   "file_extension": ".py",
   "mimetype": "text/x-python",
   "name": "python",
   "nbconvert_exporter": "python",
   "pygments_lexer": "ipython3",
   "version": "3.9.13"
  }
 },
 "nbformat": 4,
 "nbformat_minor": 2
}
