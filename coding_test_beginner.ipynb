{
 "cells": [
  {
   "cell_type": "markdown",
   "metadata": {},
   "source": [
    "#### 약수의 개수와 덧셈\n"
   ]
  },
  {
   "cell_type": "markdown",
   "metadata": {},
   "source": [
    "두 정수 left와 right가 매개변수로 주어집니다.  \\\n",
    "`left`부터 `right`까지의 모든 수들 중에서, 약수의 개수가 짝수인 수는 더하고, 약수의 개수가 홀수인 수는 뺀 수를 return 하도록 solution 함수를 완성해주세요."
   ]
  },
  {
   "cell_type": "markdown",
   "metadata": {},
   "source": [
    "#### 문제풀이\n",
    "\n",
    "- 약수의 개수를 구하기 위한 함수 getMyDivisor를 만든다. \n",
    "- 약수를 구하면 항상 그 짝이 되는 수가 존재하기 때문에 for 문을 이용하여 자연수 N의 제곱근까지만 확인해도 자동으로 구할 수 있다.\n",
    "- edge case인 숫자의 제곱근이 정수인 경우를 예외처리 해준다.(제곱근이 정수인 경우 해당 약수의 짝은 자기 자신이기 때문)\n"
   ]
  },
  {
   "cell_type": "code",
   "execution_count": 149,
   "metadata": {},
   "outputs": [],
   "source": [
    "def getMyDivisor(n):\n",
    "    divisorList = []\n",
    "    for i in range(1,int(n**(1/2))+1):\n",
    "        if n % i == 0:\n",
    "            divisorList.append(i)\n",
    "            if i**2 != n:\n",
    "                divisorList.append(n // i)\n",
    "    return divisorList\n",
    "def solution(left, right):\n",
    "    answer = 0\n",
    "    for i in range(left,right+1):\n",
    "        divisorList = getMyDivisor(i)\n",
    "        if len(divisorList) % 2 == 0:\n",
    "            answer += i\n",
    "        else:\n",
    "            answer -= i\n",
    "    return answer"
   ]
  },
  {
   "cell_type": "code",
   "execution_count": 150,
   "metadata": {},
   "outputs": [
    {
     "data": {
      "text/plain": [
       "43"
      ]
     },
     "execution_count": 150,
     "metadata": {},
     "output_type": "execute_result"
    }
   ],
   "source": [
    "left = 13\n",
    "right= 17\n",
    "solution(13,17)"
   ]
  },
  {
   "cell_type": "markdown",
   "metadata": {},
   "source": [
    "#### 안전지대\n",
    "\n",
    "다음 그림과 같이 지뢰가 있는 지역과 지뢰에 인접한 위, 아래, 좌, 우 대각선 칸을 모두 위험지역으로 분류합니다. \\ \n",
    "지뢰는 2차원 배열 `board`에 1로 표시되어 있고 `board`에는 지뢰가 매설 된 지역 1과, 지뢰가 없는 지역 0만 존재합니다. \\\n",
    "지뢰가 매설된 지역의 지도 `board`가 매개변수로 주어질 때, 안전한 지역의 칸 수를 return하도록 solution 함수를 완성해주세요."
   ]
  },
  {
   "cell_type": "markdown",
   "metadata": {},
   "source": [
    "제한사항\n",
    "- board는 n * n 배열입니다.\n",
    "- 1 ≤ n ≤ 100\n",
    "- 지뢰는 1로 표시되어 있습니다.\n",
    "- board에는 지뢰가 있는 지역 1과 지뢰가 없는 지역 0만 존재합니다.\n"
   ]
  },
  {
   "cell_type": "markdown",
   "metadata": {},
   "source": [
    "#### 문제풀이\n",
    "각 칸을 맨 위칸부터 인덱스라고 표현한다면, 폭탄이 있는 장소에서 위험한 장소로 변하는 구간을 설정할 수 있다.\n",
    ">> ex)  \\\n",
    ">> 현재 폭탄이 (3,3)이라고 한다면, 시계방향으로 12시방향부터 (2,3) 이 danger로 바뀌어야한다. \\\n",
    ">> 즉, 8개의 좌표는 각각 dirs = ((-1,0), (-1,1),(0,1),(1,1),(0,1),(-1,1),(-1,0),(-1,-1))\n"
   ]
  },
  {
   "cell_type": "code",
   "execution_count": 151,
   "metadata": {},
   "outputs": [],
   "source": [
    "board  = [[0, 0, 1], [0, 0, 0], [0, 0, 0]]"
   ]
  },
  {
   "cell_type": "code",
   "execution_count": 152,
   "metadata": {},
   "outputs": [],
   "source": [
    "def danger(board):\n",
    "    n = len(board)\n",
    "    dirs = ( ( -1 , 0 ) , ( -1 , 1 ) , ( 0 , 1 ) , ( 1 , 1 ) , ( 1 , 0 ) , ( 1 , -1 ) , ( 0 , -1 ) , ( -1 , -1 ) )\n",
    "    to_change = []\n",
    "    for r_idx in range(n):\n",
    "        for c_idx in range(n):\n",
    "            if board[r_idx][c_idx] == 1:\n",
    "                for i , j in dirs:\n",
    "                    new_r_idx, new_c_idx = r_idx+i, c_idx+j\n",
    "                    if 0 <= new_r_idx <n and 0 <= new_c_idx < n and board[new_r_idx][new_c_idx] == 0:\n",
    "                        to_change.append((new_r_idx,new_c_idx))\n",
    "    for r, c in to_change:\n",
    "        board[r][c] = 1\n",
    "    return board\n",
    "def solution(board):\n",
    "    board = danger(board)\n",
    "    return sum(item == 0 for row in board for item in row)"
   ]
  },
  {
   "cell_type": "code",
   "execution_count": 153,
   "metadata": {},
   "outputs": [
    {
     "data": {
      "text/plain": [
       "5"
      ]
     },
     "execution_count": 153,
     "metadata": {},
     "output_type": "execute_result"
    }
   ],
   "source": [
    "solution(board)"
   ]
  },
  {
   "cell_type": "code",
   "execution_count": null,
   "metadata": {},
   "outputs": [],
   "source": []
  },
  {
   "cell_type": "code",
   "execution_count": null,
   "metadata": {},
   "outputs": [],
   "source": []
  }
 ],
 "metadata": {
  "kernelspec": {
   "display_name": "Python 3",
   "language": "python",
   "name": "python3"
  },
  "language_info": {
   "codemirror_mode": {
    "name": "ipython",
    "version": 3
   },
   "file_extension": ".py",
   "mimetype": "text/x-python",
   "name": "python",
   "nbconvert_exporter": "python",
   "pygments_lexer": "ipython3",
   "version": "3.9.13"
  }
 },
 "nbformat": 4,
 "nbformat_minor": 2
}
