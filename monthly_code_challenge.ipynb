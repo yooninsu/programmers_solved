{
 "cells": [
  {
   "cell_type": "markdown",
   "metadata": {},
   "source": [
    "#### 쿼드 압축 후 개수 세기\n",
    "0과 1로 이루어진 2n x 2n 크기의 2차원 정수 배열 arr이 있습니다. \\\n",
    "당신은 이 arr을 쿼드 트리와 같은 방식으로 압축하고자 합니다. 구체적인 방식은 다음과 같습니다.\n",
    "\n",
    "당신이 압축하고자 하는 특정 영역을 S라고 정의합니다. \\\n",
    "만약 S 내부에 있는 모든 수가 같은 값이라면, S를 해당 수 하나로 압축시킵니다. \\\n",
    "그렇지 않다면, S를 정확히 4개의 균일한 정사각형 영역(입출력 예를 참고해주시기 바랍니다.)으로 쪼갠 뒤, 각 정사각형 영역에 대해 같은 방식의 압축을 시도합니다. \\\n",
    "arr이 매개변수로 주어집니다. 위와 같은 방식으로 arr을 압축했을 때, 배열에 최종적으로 남는 0의 개수와 1의 개수를 배열에 담아서 return 하도록 solution 함수를 완성해주세요."
   ]
  },
  {
   "cell_type": "markdown",
   "metadata": {},
   "source": [
    "##### 제한사항\n",
    "- arr의 행의 개수는 1 이상 1024 이하이며, 2의 거듭 제곱수 형태를 하고 있습니다. 즉, arr의 행의 개수는 1, 2, 4, 8, ..., 1024 중 하나입니다.\n",
    "- arr의 각 행의 길이는 arr의 행의 개수와 같습니다. 즉, arr은 정사각형 배열입니다.\n",
    "- arr의 각 행에 있는 모든 값은 0 또는 1 입니다."
   ]
  },
  {
   "cell_type": "markdown",
   "metadata": {},
   "source": [
    "#### 문제풀이\n",
    "우선 array가 주어졌을 떄 같은 숫자로 사각형이 생성되는 조건은 list[r_idx][c_idx]가 존재할 때 \\\n",
    "2 X 2 사각형 조건 dirs = ((r,c),(r,c+1),(r+1,c),(r+1,c+1))가 전부 같은 숫자여야 한다.\n",
    "3 X 3 사각형 조건 dirs = ((r,c),(r,c+1),(r,c+2),(r+1,c),(r+1,c+1),(r+1,c_2),(r+2,c),(r+2,c+1)(r+2,c+2)) 가 전부 같은 숫자\n",
    "n X n 사각형 조건 dirs = ((r,c),.... (r+(n-1),c+(n-1)))이 같은 숫자여야 한다.\n",
    "만약 이들이 같은 숫자라면 이 모든 숫자의 개수를 하나로 처리\n",
    "그 후 나머지 숫자들의 개수를 세주면 된다.\n"
   ]
  },
  {
   "cell_type": "code",
   "execution_count": null,
   "metadata": {},
   "outputs": [],
   "source": [
    "def isquad(arr):\n",
    "    \n",
    "def solution(arr):\n",
    "    max_r_idx, max_c_idx = len(arr), len(arr[0])\n",
    "    quad_numbers = 0\n",
    "    for r_idx in range(max_r_idx):\n",
    "        for c_idx in range(max_r_idx):\n",
    "            if arr[r_idx][c_idx] == "
   ]
  },
  {
   "cell_type": "code",
   "execution_count": null,
   "metadata": {},
   "outputs": [],
   "source": []
  },
  {
   "cell_type": "code",
   "execution_count": null,
   "metadata": {},
   "outputs": [],
   "source": []
  }
 ],
 "metadata": {
  "kernelspec": {
   "display_name": "Python 3",
   "language": "python",
   "name": "python3"
  },
  "language_info": {
   "name": "python",
   "version": "3.9.13"
  }
 },
 "nbformat": 4,
 "nbformat_minor": 2
}
